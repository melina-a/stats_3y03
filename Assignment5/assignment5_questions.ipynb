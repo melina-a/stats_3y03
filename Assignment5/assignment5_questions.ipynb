{
 "cells": [
  {
   "cell_type": "raw",
   "metadata": {},
   "source": [
    "---\n",
    "title: STATS 3DA3\n",
    "subtitle: Homework Assignment 5\n",
    "author: \"Pratheepa Jeganathan\"\n",
    "date: 03/21/2024\n",
    "format: pdf\n",
    "header-includes:\n",
    "   - \\usepackage{amsmath}\n",
    "   - \\usepackage{bbm}\n",
    "   - \\usepackage{array}\n",
    "   - \\usepackage{multirow}\n",
    "   - \\usepackage{graphicx}\n",
    "   - \\usepackage{float}\n",
    "   - \\usepackage{apacite}\n",
    "   - \\usepackage{natbib}\n",
    "execute: \n",
    "  echo: true\n",
    "fontsize: 11pt\n",
    "geometry: margin = 1in\n",
    "linestretch: 1.5\n",
    "bibliography: ass5.bib\n",
    "---"
   ]
  },
  {
   "cell_type": "markdown",
   "metadata": {
    "vscode": {
     "languageId": "python"
    }
   },
   "source": [
    "## Instruction\n",
    "\n",
    "-   **Due before 10:00 PM on Thursday, April 4, 2024.**\n",
    "\n",
    "-   **Submit a copy of the PDF with your solution to Avenue to Learn.**\n",
    "    - The Python codes used to answer each question must be included. \n",
    "\n",
    "-   **Late penalty for assignments: 15% will be deducted from assignments each day after the due date (rounding up).**\n",
    "\n",
    "-   **Assignments won't be accepted after 48 hours after the due date.**\n",
    "\n",
    "## Assignment Standards\n",
    "\n",
    "**Your assignment must conform to the Assignment Standards listed below.**\n",
    "\n",
    "- Write **your name** and **student number** on the title page. We will not grade assignments without the title page.\n",
    "- You may discuss homework problems with other students, but you have to prepare the written assignments yourself.\n",
    "- \\LaTeX is strongly recommended but not strictly required.\n",
    "- Eleven-point font (times or similar) must be used with 1.5 line spacing and margins of at least 1 inch all around.\n",
    "- Use **newpage** to write a solution for each question (1, 2, 3).\n",
    "- No screenshots are accepted for any reason.\n",
    "- The writing and referencing should be appropriate for the undergraduate level.\n",
    "- Various tools, including publicly available internet tools, \n",
    "may be used by the instructor to check the originality of submitted work.\n",
    "-   Assignment policy on the use of generative AI:\n",
    "    -   Students are not permitted to use generative AI in this assignment. In alignment with [McMaster academic integrity policy](https://secretariat.mcmaster.ca/app/uploads/Academic-Integrity-Policy-1-1.pdf), it \"shall be an offence knowingly to ...  submit academic work for assessment that was purchased or acquired from another source\".  This includes work created by generative AI tools. Also state in the policy is the following, \"Contract Cheating is the act of\"outsourcing of student work to third parties\" (Lancaster & Clarke, 2016, p. 639)\n",
    "    with or without payment.\" Using Generative AI tools is a form of contract cheating.  Charges of academic dishonesty will be brought forward to the Office of Academic Integrity. \n",
    "\n",
    "\\newpage"
   ]
  },
  {
   "cell_type": "markdown",
   "metadata": {},
   "source": [
    "## Question \n",
    "\n",
    "Consider the `banknote` dataset from the `mclust` package in R. The dataset can be downloaded from [banknote](https://raw.githubusercontent.com/PratheepaJ/datasets/master/banknote.csv).\n",
    "\n",
    "You can read the data dictionary for the `banknote` dataset at [Banknote dataset](https://mclust-org.github.io/mclust/reference/banknote.html#format). The data set contains six measurements made on 100 genuine and 100 counterfeit old Swiss 1000-franc banknotes. \n",
    "\n",
    "You will uncover patterns in the data using clustering and principal component analysis, but first, you must prepare the dataset."
   ]
  },
  {
   "cell_type": "markdown",
   "metadata": {},
   "source": [
    "1. Store the `Status` variable in a separate object. Later, we will compare the outcomes of the unsupervised methods against the actual labels to evaluate their performance.\n"
   ]
  },
  {
   "cell_type": "markdown",
   "metadata": {},
   "source": [
    "2. What are the variables in the dataset?\n"
   ]
  },
  {
   "cell_type": "markdown",
   "metadata": {},
   "source": [
    "3. From the `banknote` dataset, remove the `Status` variable. Ensure that all analyses and tasks going forward are conducted using this modified dataset. "
   ]
  },
  {
   "cell_type": "markdown",
   "metadata": {},
   "source": [
    "4. Calculate the mean and variance for each variable in the dataset. Which variable has the largest variance? Discuss the implications of this finding for unsupervised learning, particularly how this variable's characteristics might influence the analysis compared to the other variables."
   ]
  },
  {
   "cell_type": "markdown",
   "metadata": {},
   "source": [
    "5. Normalize the dataset by centering and scaling all variables. Use this standardized dataset for all subsequent analyses (Questions 6-12)."
   ]
  },
  {
   "cell_type": "markdown",
   "metadata": {},
   "source": [
    "6. Using k-means clustering, group the banknotes into clusters. Select a random number of clusters, denoted as $k$, according to your discretion. Set `n_init` to 20 to ensure the algorithm runs with 20 different centroid seeds. After clustering, calculate the average silhouette score for the cluster assignments to evaluate the clustering performance. "
   ]
  },
  {
   "cell_type": "markdown",
   "metadata": {},
   "source": [
    "7. Determine the optimal number of clusters, $k$, for the dataset based on the silhouette score distribution. To achieve this, plot the silhouette scores for various values of $k$ (e.g., $k=2, 3, 4$). Based on these plots, select the $k$ that best fits the data. Provide two reasons supporting your choice of $k$. "
   ]
  },
  {
   "cell_type": "markdown",
   "metadata": {},
   "source": [
    "8. Apply k-means clustering to find clusters of banknotes with $k$ you found in question (7). Set n_init to 20 to ensure multiple initial centroid seeds are tested. After clustering, calculate and report the number of observations within each identified cluster."
   ]
  },
  {
   "cell_type": "markdown",
   "metadata": {},
   "source": [
    "9. Since visualizing clusters with all variables in the dataset is not feasible, we will employ principal component analysis (PCA) to reduce the dimensionality of the banknote data, excluding the `Status` variable. Use the normalized data prepared in question (5) for this analysis. Determine the number of principal components to compute. Justify your choice of the number of components, considering factors such as explained variance and the scree plot."
   ]
  },
  {
   "cell_type": "markdown",
   "metadata": {},
   "source": [
    "10. Refer to the PCA obtained in question (9) to identify which variable has the most significant influence on the second principal component. Explain your rationale for identifying this variable."
   ]
  },
  {
   "cell_type": "markdown",
   "metadata": {},
   "source": [
    "11. Determine the proportion of the total variance in the original dataset that is explained by the first two principal components. Provide the Python code that calculates this proportion based on the PCA results obtained in question (9)."
   ]
  },
  {
   "cell_type": "markdown",
   "metadata": {},
   "source": [
    "12. Create a visualization of the k-means cluster assignments from question (8), using the first two principal components as the axes. This visualization will help illustrate how the clusters are distributed in the reduced-dimensional space."
   ]
  },
  {
   "cell_type": "markdown",
   "metadata": {},
   "source": [
    "13. Compare the true labels, represented by the `Status` variable saved in question (1), with the k-means cluster assignments determined in question (8). Use the adjusted Rand index to quantify the similarity between the true labels and the clustering assignments. Provide commentary on the implications of the results obtained from this comparison."
   ]
  },
  {
   "cell_type": "markdown",
   "metadata": {},
   "source": [
    "\\newpage\n",
    "\n",
    "## Grading scheme \n",
    "\n",
    "\\begin{table}[H]\n",
    "\\begin{tabular}{p{0.15\\textwidth}  p{0.65\\textwidth}}\n",
    "1.   & Codes [1]\\\\\n",
    "2.   & Answer the question [1] \\\\\n",
    "3.   & Codes [1]\\\\\n",
    "4.   & codes [1] and answer two questions [2]\\\\\n",
    "5.   & Codes [1]\\\\\n",
    "6.   & Codes with appropriate inputs [2]\\\\\n",
    "7.   & Codes and Plots [2]\\\\\n",
    "     & Choose the best $k$[1]\\\\\n",
    "     & Write two reasons for choosing that $k$[2]\\\\\n",
    "8.   & Codes [1] and answer the question [1]\\\\\n",
    "9.   & Codes [1] and answer the questions [2]\\\\\n",
    "10.   & Answer the question [1] and explain the reason [1]\\\\\n",
    "11.   & Codes [1] and answer the question [1]\\\\\n",
    "12.   & Codes [1], readable plot [1], readable axes labels [1], cluster annotation with colors [1]\\\\\n",
    "13.   & Codes [1] and comment on the results [1]\n",
    "\\end{tabular}\n",
    "\\end{table}\n",
    "\n",
    "**The maximum point for this assignment is 29. We will convert this to 100%.**\n"
   ]
  }
 ],
 "metadata": {
  "kernelspec": {
   "display_name": ".venv",
   "language": "python",
   "name": "python3"
  },
  "language_info": {
   "codemirror_mode": {
    "name": "ipython",
    "version": 3
   },
   "file_extension": ".py",
   "mimetype": "text/x-python",
   "name": "python",
   "nbconvert_exporter": "python",
   "pygments_lexer": "ipython3",
   "version": "3.9.13"
  }
 },
 "nbformat": 4,
 "nbformat_minor": 2
}
