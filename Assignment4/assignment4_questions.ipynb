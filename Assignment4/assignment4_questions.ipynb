{
 "cells": [
  {
   "cell_type": "raw",
   "metadata": {},
   "source": [
    "---\n",
    "title: STATS 3DA3\n",
    "subtitle: Homework Assignment 4\n",
    "author: \"Pratheepa Jeganathan\"\n",
    "date: 03/05/2024\n",
    "format: pdf\n",
    "header-includes:\n",
    "   - \\usepackage{amsmath}\n",
    "   - \\usepackage{bbm}\n",
    "   - \\usepackage{array}\n",
    "   - \\usepackage{multirow}\n",
    "   - \\usepackage{graphicx}\n",
    "   - \\usepackage{float}\n",
    "   - \\usepackage{apacite}\n",
    "   - \\usepackage{natbib}\n",
    "execute: \n",
    "  echo: true\n",
    "fontsize: 11pt\n",
    "geometry: margin = 1in\n",
    "linestretch: 1.5\n",
    "bibliography: ass4.bib\n",
    "---"
   ]
  },
  {
   "cell_type": "markdown",
   "metadata": {
    "vscode": {
     "languageId": "python"
    }
   },
   "source": [
    "## Instruction\n",
    "\n",
    "-   **Due before 10:00 PM on Thursday, March 14, 2024.**\n",
    "\n",
    "-   **Submit a copy of the PDF with your solution to Avenue to Learn.**\n",
    "    - The Python codes used for answering each question must be included. \n",
    "\n",
    "-   **Late penalty for assignments: 15% will be deducted from assignments each day after the due date (rounding up).**\n",
    "\n",
    "-   **Assignments won't be accepted after 48 hours after the due date.**\n",
    "\n",
    "## Assignment Standards\n",
    "\n",
    "**Your assignment must conform to the Assignment Standards listed below.**\n",
    "\n",
    "- Write **your name** and **student number** on the title page. We will not grade assignments without the title page.\n",
    "- You may discuss homework problems with other students, but you have to prepare the written assignments yourself.\n",
    "- \\LaTeX is strongly recommended but not strictly required.\n",
    "- Eleven-point font (times or similar) must be used with 1.5 line spacing and margins of at least 1~inch all around.\n",
    "- Use **newpage** to write solution for each question (1, 2, 3).\n",
    "- No screenshots are accepted for any reason.\n",
    "- The writing and referencing should be appropriate to the undergradaute level.\n",
    "- Various tools, including publicly available internet tools, \n",
    "may be used by the instructor to check the originality of submitted work.\n",
    "-   Assignment policy on the use of generative AI:\n",
    "    -   Students are not permitted to use generative AI in this assignment. In alignment with [McMaster academic integrity policy](https://secretariat.mcmaster.ca/app/uploads/Academic-Integrity-Policy-1-1.pdf), it \"shall be an offence knowingly to ...  submit academic work for assessment that was purchased or acquired from another source\".  This includes work created by generative AI tools. Also state in the policy is the following, \"Contract Cheating is the act of\"outsourcing of student work to third parties\" (Lancaster & Clarke, 2016, p. 639)\n",
    "    with or without payment.\" Using Generative AI tools is a form of contract cheating.  Charges of academic dishonesty will be brought forward to the Office of Academic Integrity. \n",
    "\n",
    "\\newpage"
   ]
  },
  {
   "cell_type": "markdown",
   "metadata": {},
   "source": [
    "## Question 1\n",
    "\n",
    "In this assignment, you will delve into the logistic regression algorithm and apply it to a dataset from Kaggle. This will allow you to practice real-world data science skills, including data retrieval, preprocessing, model fitting, inference, and evaluation. \n",
    "\n",
    "For this assignment, you will use the \"heart disease\" dataset available on Kaggle. The dataset is from an ongoing cardiovascular study on residents of Framingham, Massachusetts. The classification goal is to predict whether the patient has a 10-year risk of future coronary heart disease (CHD). The dataset provides the patients' information. There is also an interest in interpreting the logistic regression fit.\n",
    "\n",
    "Link to the dataset: [Heart Disease Dataset on Kaggle](https://www.kaggle.com/datasets/dileep070/heart-disease-prediction-using-logistic-regression?resource=download)"
   ]
  },
  {
   "cell_type": "markdown",
   "metadata": {},
   "source": [
    "1. Ensure you have a Kaggle account. If not, sign up at [kaggle.com](https://www.kaggle.com/). Download the Heart Disease dataset from Kaggle. Cite the dataset."
   ]
  },
  {
   "cell_type": "markdown",
   "metadata": {},
   "source": [
    "2. Load the dataset into a pandas DataFrame for analysis."
   ]
  },
  {
   "cell_type": "markdown",
   "metadata": {},
   "source": [
    "3. Perform an initial exploration of the dataset to understand its structure (the number of features, observations, and variable types). Write at least three findings from the exploratory data analysis."
   ]
  },
  {
   "cell_type": "markdown",
   "metadata": {},
   "source": [
    "4. Generate summary statistics for the dataset, including description on the categorical variables. Comment on the results (at least two statements). \n"
   ]
  },
  {
   "cell_type": "markdown",
   "metadata": {},
   "source": [
    "5. Visualize the distribution of `10 year risk of coronary heart disease CHD (TenYearCHD)`. Comment on the plot (at least one statement)."
   ]
  },
  {
   "cell_type": "markdown",
   "metadata": {},
   "source": [
    "6. Are there any missing values? If you identify any, drop those observations with the missing values."
   ]
  },
  {
   "cell_type": "markdown",
   "metadata": {},
   "source": [
    "7. Skip the outlier analysis. Standardize the numerical predictor variables to ensure they are on the same scale. \n",
    "\n",
    "\\color{blue}\n",
    "\n",
    "Hint:\n",
    "\n",
    "a. Identify the numerical columns using `select_dtypes(include='float64').columns`\n",
    "\n",
    "b. Scale the selected columns in (a) and assign the standardized columns to the data frame.\n",
    "\n",
    "\n",
    "\\color{black}"
   ]
  },
  {
   "cell_type": "markdown",
   "metadata": {},
   "source": [
    "8. Split the dataset into a training set(75\\%) and a testing set (25\\%).\n",
    "\n",
    "\\color{blue}\n",
    "Hint: \n",
    "\n",
    "a. Assign only predictors into a data frame X.\n",
    "\n",
    "b. Assign response variable to y.\n",
    "\n",
    "c. Use stratified random sampling.\n",
    "\n",
    "\\color{black}"
   ]
  },
  {
   "cell_type": "markdown",
   "metadata": {},
   "source": [
    "9. Create an instance of the logistic regression using `scikit-learn`. "
   ]
  },
  {
   "cell_type": "markdown",
   "metadata": {},
   "source": [
    "10. Train the model on the training set and make predictions on the test set. \n",
    "\n",
    "\\color{blue}\n",
    "\n",
    "Hint: \n",
    "\n",
    "a. If the number of iterations the optimization algorithm uses is insufficient to reach the solution, you may need to increase the number of iterations in the previous question (10).\n",
    "\n",
    "\\color{black}\n"
   ]
  },
  {
   "cell_type": "markdown",
   "metadata": {},
   "source": [
    "11. Calculate the accuracy of the model with the probability cut-off = 0.5 being classified into 10 year risk of coronary heart disease (CHD). Discuss the model's performance (compare the model's performance to flipping a coin)\n",
    "\n",
    "\\color{blue}\n",
    "\n",
    "Hint: Evaluate the model on the test set.\n",
    "\n",
    "\\color{black}"
   ]
  },
  {
   "cell_type": "markdown",
   "metadata": {},
   "source": [
    "12. Comment on the sensitivity and specificity of the model (at least one statement).\n",
    "\n"
   ]
  },
  {
   "cell_type": "markdown",
   "metadata": {},
   "source": [
    "13. Discuss any potential improvements based on the accuracy and confusion matrix."
   ]
  },
  {
   "cell_type": "markdown",
   "metadata": {},
   "source": [
    "14. Perform ROC analysis and plot the ROC curve. Additionally, calculate the area under the ROC curve (AUC). Determine the optimal probability cut-off point."
   ]
  },
  {
   "cell_type": "markdown",
   "metadata": {},
   "source": [
    "15. The remaining questions will use the selected predictor variables: 'male', 'age', 'cigsPerDay', 'diabetes', 'sysBP', 'heartRate'. Create a design matrix with thsese predictors. "
   ]
  },
  {
   "cell_type": "markdown",
   "metadata": {},
   "source": [
    "16. What are the significant variables in predicting the 10-year risk of coronary heart disease ('TenYearCHD') and why? \n",
    "\n",
    "\\color{blue}\n",
    "\n",
    "Hint:\n",
    "\n",
    "a. If you choose the predictor variables from the data frame with already standardized numerical variables, don't standardize the variables again.\n",
    "\n",
    "b. Split the design matrix and response variable into a training set(75\\%) and a testing set (25\\%). Use stratified random sampling.\n",
    "\n",
    "c. Use sm.Logit() from statsmodel.\n",
    "\n",
    "d. Use the model summary to identify the significant predictor variables.\n",
    "\n",
    "\\color{black}"
   ]
  },
  {
   "cell_type": "markdown",
   "metadata": {},
   "source": [
    "17. Interpret the coefficient of diabetes in predicting the 10 year risk of coronary heart disease ('TenYearCHD') "
   ]
  },
  {
   "cell_type": "markdown",
   "metadata": {},
   "source": [
    "## Helper's name.\n",
    "\n",
    "After attempting homework problems individually, students may discuss a homework assignment with their classmates. However, students must write up their solutions individually and explicitly indicate who (if anyone) or resources students received help. Write your helper's name (only one helper's name is accepted)."
   ]
  },
  {
   "cell_type": "markdown",
   "metadata": {},
   "source": [
    "\\newpage\n",
    "\n",
    "## Grading scheme \n",
    "\n",
    "\\begin{table}[H]\n",
    "\\begin{tabular}{p{0.15\\textwidth} p{0.15\\textwidth} p{0.65\\textwidth}}\n",
    "1. & 1. & Cite the dataset [1]\\\\\n",
    "   & 2. & Code [1]\\\\\n",
    "   & 3. & Codes [1] and describe three findings [3]\\\\\n",
    "   & 4. & Codes [1] and two comments [2]\\\\\n",
    "    & 5. & Codes [1] and one comment [1]\\\\\n",
    "   & 6. & Codes [1]\\\\\n",
    "   & 7. & Codes [1]\\\\\n",
    "   & 8. & Codes [1] \\\\\n",
    "   & 9. & Codes [1]\\\\\n",
    "   & 10. & Codes with appropriate iterations [2]\\\\\n",
    "   & 11. & Codes [1] and comment [1]\\\\\n",
    "   & 12. & Codes [1] and comment [1]\\\\\n",
    "   & 13. & Comment [1]\\\\\n",
    "   & 14. & Codes (ROC, AUC, cut-off) [3] \\\\\n",
    "   & 15. & Codes [1]\\\\\n",
    "   & 16. & Codes [1] and what [1] and why [1]\\\\\n",
    "   & 17. & Comment [1]\\\\\n",
    "\n",
    "  \n",
    "\\end{tabular}\n",
    "\\end{table}\n",
    "\n",
    "**The maximum point for this assignment is 30. We will convert this to 100%.**"
   ]
  }
 ],
 "metadata": {
  "kernelspec": {
   "display_name": ".venv",
   "language": "python",
   "name": "python3"
  },
  "language_info": {
   "codemirror_mode": {
    "name": "ipython",
    "version": 3
   },
   "file_extension": ".py",
   "mimetype": "text/x-python",
   "name": "python",
   "nbconvert_exporter": "python",
   "pygments_lexer": "ipython3",
   "version": "3.9.13"
  }
 },
 "nbformat": 4,
 "nbformat_minor": 2
}
