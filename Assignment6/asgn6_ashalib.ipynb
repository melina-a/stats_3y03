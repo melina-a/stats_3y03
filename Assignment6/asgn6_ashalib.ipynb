{
 "cells": [
  {
   "cell_type": "raw",
   "metadata": {
    "vscode": {
     "languageId": "raw"
    }
   },
   "source": [
    "---\n",
    "title: STATS 3DA3\n",
    "subtitle: Homework Assignment 6\n",
    "author: \"Melina Ashali (400251624)\"\n",
    "date: 04/18/2024\n",
    "format: pdf\n",
    "header-includes:\n",
    "   - \\usepackage{amsmath}\n",
    "   - \\usepackage{bbm}\n",
    "   - \\usepackage{array}\n",
    "   - \\usepackage{multirow}\n",
    "   - \\usepackage{graphicx}\n",
    "   - \\usepackage{float}\n",
    "   - \\usepackage{apacite}\n",
    "   - \\usepackage{natbib}\n",
    "   \n",
    "execute: \n",
    "  echo: true\n",
    "fontsize: 11pt\n",
    "geometry: margin = 1in\n",
    "linestretch: 1.5\n",
    "---"
   ]
  },
  {
   "cell_type": "markdown",
   "metadata": {},
   "source": [
    "\\newpage"
   ]
  },
  {
   "cell_type": "code",
   "execution_count": 1,
   "metadata": {},
   "outputs": [
    {
     "name": "stderr",
     "output_type": "stream",
     "text": [
      "C:\\Users\\melin\\AppData\\Local\\Temp\\ipykernel_4164\\2646944835.py:1: DeprecationWarning: \n",
      "Pyarrow will become a required dependency of pandas in the next major release of pandas (pandas 3.0),\n",
      "(to allow more performant data types, such as the Arrow string type, and better interoperability with other libraries)\n",
      "but was not found to be installed on your system.\n",
      "If this would cause problems for you,\n",
      "please provide us feedback at https://github.com/pandas-dev/pandas/issues/54466\n",
      "        \n",
      "  import pandas as pd\n"
     ]
    }
   ],
   "source": [
    "import pandas as pd\n",
    "import numpy as np\n",
    "import matplotlib.pyplot as plt\n",
    "from sklearn.preprocessing import MinMaxScaler\n",
    "from sklearn.impute import KNNImputer\n",
    "from sklearn.model_selection import train_test_split\n",
    "from sklearn.neighbors import KNeighborsClassifier\n",
    "from sklearn.metrics import accuracy_score, ConfusionMatrixDisplay, confusion_matrix, classification_report\n",
    "from sklearn.tree import DecisionTreeClassifier\n",
    "import warnings\n",
    "from sklearn.exceptions import DataConversionWarning\n",
    "\n",
    "# Suppress DataConversionWarning\n",
    "warnings.filterwarnings(action='ignore', category=DataConversionWarning)"
   ]
  },
  {
   "cell_type": "markdown",
   "metadata": {},
   "source": [
    "### Question 1 - Classification Problem Identification\n",
    "This dataset is 2 months worth of data with 25 features (such as blood pressure, albumin, pus cell, etc.). Using these features, I will attempt to classify whether each patient has chronic kidney disease. \n",
    "\n",
    "### Question 2 - Variable Transformation\n",
    "Note that the same dataset posted on https://archive.ics.uci.edu/dataset/336/chronic+kidney+disease is also available on Kaggle, https://www.kaggle.com/datasets/mansoordaku/ckdisease/data. The .csv file in the following code has been downloaded from that Kaggle page. To understand how the variables need to be transformed, we can perform some initial exploration of the data."
   ]
  },
  {
   "cell_type": "code",
   "execution_count": 2,
   "metadata": {},
   "outputs": [
    {
     "name": "stdout",
     "output_type": "stream",
     "text": [
      "Initial exploration of data:\n"
     ]
    },
    {
     "data": {
      "text/html": [
       "<div>\n",
       "<style scoped>\n",
       "    .dataframe tbody tr th:only-of-type {\n",
       "        vertical-align: middle;\n",
       "    }\n",
       "\n",
       "    .dataframe tbody tr th {\n",
       "        vertical-align: top;\n",
       "    }\n",
       "\n",
       "    .dataframe thead th {\n",
       "        text-align: right;\n",
       "    }\n",
       "</style>\n",
       "<table border=\"1\" class=\"dataframe\">\n",
       "  <thead>\n",
       "    <tr style=\"text-align: right;\">\n",
       "      <th></th>\n",
       "      <th>id</th>\n",
       "      <th>age</th>\n",
       "      <th>bp</th>\n",
       "      <th>sg</th>\n",
       "      <th>al</th>\n",
       "      <th>su</th>\n",
       "      <th>rbc</th>\n",
       "      <th>pc</th>\n",
       "      <th>pcc</th>\n",
       "      <th>ba</th>\n",
       "      <th>...</th>\n",
       "      <th>pcv</th>\n",
       "      <th>wc</th>\n",
       "      <th>rc</th>\n",
       "      <th>htn</th>\n",
       "      <th>dm</th>\n",
       "      <th>cad</th>\n",
       "      <th>appet</th>\n",
       "      <th>pe</th>\n",
       "      <th>ane</th>\n",
       "      <th>classification</th>\n",
       "    </tr>\n",
       "  </thead>\n",
       "  <tbody>\n",
       "    <tr>\n",
       "      <th>0</th>\n",
       "      <td>0</td>\n",
       "      <td>48.0</td>\n",
       "      <td>80.0</td>\n",
       "      <td>1.020</td>\n",
       "      <td>1.0</td>\n",
       "      <td>0.0</td>\n",
       "      <td>NaN</td>\n",
       "      <td>normal</td>\n",
       "      <td>notpresent</td>\n",
       "      <td>notpresent</td>\n",
       "      <td>...</td>\n",
       "      <td>44</td>\n",
       "      <td>7800</td>\n",
       "      <td>5.2</td>\n",
       "      <td>yes</td>\n",
       "      <td>yes</td>\n",
       "      <td>no</td>\n",
       "      <td>good</td>\n",
       "      <td>no</td>\n",
       "      <td>no</td>\n",
       "      <td>ckd</td>\n",
       "    </tr>\n",
       "    <tr>\n",
       "      <th>1</th>\n",
       "      <td>1</td>\n",
       "      <td>7.0</td>\n",
       "      <td>50.0</td>\n",
       "      <td>1.020</td>\n",
       "      <td>4.0</td>\n",
       "      <td>0.0</td>\n",
       "      <td>NaN</td>\n",
       "      <td>normal</td>\n",
       "      <td>notpresent</td>\n",
       "      <td>notpresent</td>\n",
       "      <td>...</td>\n",
       "      <td>38</td>\n",
       "      <td>6000</td>\n",
       "      <td>NaN</td>\n",
       "      <td>no</td>\n",
       "      <td>no</td>\n",
       "      <td>no</td>\n",
       "      <td>good</td>\n",
       "      <td>no</td>\n",
       "      <td>no</td>\n",
       "      <td>ckd</td>\n",
       "    </tr>\n",
       "    <tr>\n",
       "      <th>2</th>\n",
       "      <td>2</td>\n",
       "      <td>62.0</td>\n",
       "      <td>80.0</td>\n",
       "      <td>1.010</td>\n",
       "      <td>2.0</td>\n",
       "      <td>3.0</td>\n",
       "      <td>normal</td>\n",
       "      <td>normal</td>\n",
       "      <td>notpresent</td>\n",
       "      <td>notpresent</td>\n",
       "      <td>...</td>\n",
       "      <td>31</td>\n",
       "      <td>7500</td>\n",
       "      <td>NaN</td>\n",
       "      <td>no</td>\n",
       "      <td>yes</td>\n",
       "      <td>no</td>\n",
       "      <td>poor</td>\n",
       "      <td>no</td>\n",
       "      <td>yes</td>\n",
       "      <td>ckd</td>\n",
       "    </tr>\n",
       "    <tr>\n",
       "      <th>3</th>\n",
       "      <td>3</td>\n",
       "      <td>48.0</td>\n",
       "      <td>70.0</td>\n",
       "      <td>1.005</td>\n",
       "      <td>4.0</td>\n",
       "      <td>0.0</td>\n",
       "      <td>normal</td>\n",
       "      <td>abnormal</td>\n",
       "      <td>present</td>\n",
       "      <td>notpresent</td>\n",
       "      <td>...</td>\n",
       "      <td>32</td>\n",
       "      <td>6700</td>\n",
       "      <td>3.9</td>\n",
       "      <td>yes</td>\n",
       "      <td>no</td>\n",
       "      <td>no</td>\n",
       "      <td>poor</td>\n",
       "      <td>yes</td>\n",
       "      <td>yes</td>\n",
       "      <td>ckd</td>\n",
       "    </tr>\n",
       "    <tr>\n",
       "      <th>4</th>\n",
       "      <td>4</td>\n",
       "      <td>51.0</td>\n",
       "      <td>80.0</td>\n",
       "      <td>1.010</td>\n",
       "      <td>2.0</td>\n",
       "      <td>0.0</td>\n",
       "      <td>normal</td>\n",
       "      <td>normal</td>\n",
       "      <td>notpresent</td>\n",
       "      <td>notpresent</td>\n",
       "      <td>...</td>\n",
       "      <td>35</td>\n",
       "      <td>7300</td>\n",
       "      <td>4.6</td>\n",
       "      <td>no</td>\n",
       "      <td>no</td>\n",
       "      <td>no</td>\n",
       "      <td>good</td>\n",
       "      <td>no</td>\n",
       "      <td>no</td>\n",
       "      <td>ckd</td>\n",
       "    </tr>\n",
       "  </tbody>\n",
       "</table>\n",
       "<p>5 rows × 26 columns</p>\n",
       "</div>"
      ],
      "text/plain": [
       "   id   age    bp     sg   al   su     rbc        pc         pcc          ba  \\\n",
       "0   0  48.0  80.0  1.020  1.0  0.0     NaN    normal  notpresent  notpresent   \n",
       "1   1   7.0  50.0  1.020  4.0  0.0     NaN    normal  notpresent  notpresent   \n",
       "2   2  62.0  80.0  1.010  2.0  3.0  normal    normal  notpresent  notpresent   \n",
       "3   3  48.0  70.0  1.005  4.0  0.0  normal  abnormal     present  notpresent   \n",
       "4   4  51.0  80.0  1.010  2.0  0.0  normal    normal  notpresent  notpresent   \n",
       "\n",
       "   ...  pcv    wc   rc  htn   dm  cad appet   pe  ane classification  \n",
       "0  ...   44  7800  5.2  yes  yes   no  good   no   no            ckd  \n",
       "1  ...   38  6000  NaN   no   no   no  good   no   no            ckd  \n",
       "2  ...   31  7500  NaN   no  yes   no  poor   no  yes            ckd  \n",
       "3  ...   32  6700  3.9  yes   no   no  poor  yes  yes            ckd  \n",
       "4  ...   35  7300  4.6   no   no   no  good   no   no            ckd  \n",
       "\n",
       "[5 rows x 26 columns]"
      ]
     },
     "metadata": {},
     "output_type": "display_data"
    },
    {
     "name": "stdout",
     "output_type": "stream",
     "text": [
      "Data dimensions:\n"
     ]
    },
    {
     "data": {
      "text/plain": [
       "(400, 26)"
      ]
     },
     "metadata": {},
     "output_type": "display_data"
    },
    {
     "name": "stdout",
     "output_type": "stream",
     "text": [
      "Summary of non-null counts and datatypes:\n",
      "<class 'pandas.core.frame.DataFrame'>\n",
      "RangeIndex: 400 entries, 0 to 399\n",
      "Data columns (total 26 columns):\n",
      " #   Column          Non-Null Count  Dtype  \n",
      "---  ------          --------------  -----  \n",
      " 0   id              400 non-null    int64  \n",
      " 1   age             391 non-null    float64\n",
      " 2   bp              388 non-null    float64\n",
      " 3   sg              353 non-null    float64\n",
      " 4   al              354 non-null    float64\n",
      " 5   su              351 non-null    float64\n",
      " 6   rbc             248 non-null    object \n",
      " 7   pc              335 non-null    object \n",
      " 8   pcc             396 non-null    object \n",
      " 9   ba              396 non-null    object \n",
      " 10  bgr             356 non-null    float64\n",
      " 11  bu              381 non-null    float64\n",
      " 12  sc              383 non-null    float64\n",
      " 13  sod             313 non-null    float64\n",
      " 14  pot             312 non-null    float64\n",
      " 15  hemo            348 non-null    float64\n",
      " 16  pcv             330 non-null    object \n",
      " 17  wc              295 non-null    object \n",
      " 18  rc              270 non-null    object \n",
      " 19  htn             398 non-null    object \n",
      " 20  dm              398 non-null    object \n",
      " 21  cad             398 non-null    object \n",
      " 22  appet           399 non-null    object \n",
      " 23  pe              399 non-null    object \n",
      " 24  ane             399 non-null    object \n",
      " 25  classification  400 non-null    object \n",
      "dtypes: float64(11), int64(1), object(14)\n",
      "memory usage: 81.4+ KB\n"
     ]
    },
    {
     "data": {
      "text/plain": [
       "None"
      ]
     },
     "metadata": {},
     "output_type": "display_data"
    }
   ],
   "source": [
    "# Importing data\n",
    "df = pd.read_csv('kidney_disease.csv')\n",
    "\n",
    "# Initial exploration of data\n",
    "print('Initial exploration of data:')\n",
    "display(df.head())\n",
    "\n",
    "print('Data dimensions:')\n",
    "display(df.shape)  # 400 patients, 25 variables\n",
    "\n",
    "print('Summary of non-null counts and datatypes:')\n",
    "display(df.info())\n"
   ]
  },
  {
   "cell_type": "markdown",
   "metadata": {},
   "source": [
    "To make the data easier to read, we can rename the column variables to be more descriptive. "
   ]
  },
  {
   "cell_type": "code",
   "execution_count": 3,
   "metadata": {},
   "outputs": [],
   "source": [
    "new_col_names = ['id','age','blood_pressure','specific_gravity','albumin','sugar','red_blood_cells','pus_cells',\n",
    "                 'pus_cell_clumps','bacteria','blood_gluc_random','blood_urea','serum_creatinine','sodium','potassium',\n",
    "                 'hemoglobin','packed_cell_vol','white_cell_count','red_cell_count','hypertension','diabetes_mel', \n",
    "                 'coronary_heart_disease', 'appetite','pedal_enema','anemia','class']\n",
    "\n",
    "df.rename(columns=dict(zip(df.columns, new_col_names)), inplace=True)"
   ]
  },
  {
   "cell_type": "markdown",
   "metadata": {},
   "source": [
    "We can look at the unique values of each column to look for any typos or errors"
   ]
  },
  {
   "cell_type": "code",
   "execution_count": 4,
   "metadata": {},
   "outputs": [
    {
     "name": "stdout",
     "output_type": "stream",
     "text": [
      "age\n"
     ]
    },
    {
     "data": {
      "text/plain": [
       "array([48.,  7., 62., 51., 60., 68., 24., 52., 53., 50., 63., 40., 47.,\n",
       "       61., 21., 42., 75., 69., nan, 73., 70., 65., 76., 72., 82., 46.,\n",
       "       45., 35., 54., 11., 59., 67., 15., 55., 44., 26., 64., 56.,  5.,\n",
       "       74., 38., 58., 71., 34., 17., 12., 43., 41., 57.,  8., 39., 66.,\n",
       "       81., 14., 27., 83., 30.,  4.,  3.,  6., 32., 80., 49., 90., 78.,\n",
       "       19.,  2., 33., 36., 37., 23., 25., 20., 29., 28., 22., 79.])"
      ]
     },
     "metadata": {},
     "output_type": "display_data"
    },
    {
     "name": "stdout",
     "output_type": "stream",
     "text": [
      "blood_pressure\n"
     ]
    },
    {
     "data": {
      "text/plain": [
       "array([ 80.,  50.,  70.,  90.,  nan, 100.,  60., 110., 140., 180., 120.])"
      ]
     },
     "metadata": {},
     "output_type": "display_data"
    },
    {
     "name": "stdout",
     "output_type": "stream",
     "text": [
      "specific_gravity\n"
     ]
    },
    {
     "data": {
      "text/plain": [
       "array([1.02 , 1.01 , 1.005, 1.015,   nan, 1.025])"
      ]
     },
     "metadata": {},
     "output_type": "display_data"
    },
    {
     "name": "stdout",
     "output_type": "stream",
     "text": [
      "albumin\n"
     ]
    },
    {
     "data": {
      "text/plain": [
       "array([ 1.,  4.,  2.,  3.,  0., nan,  5.])"
      ]
     },
     "metadata": {},
     "output_type": "display_data"
    },
    {
     "name": "stdout",
     "output_type": "stream",
     "text": [
      "sugar\n"
     ]
    },
    {
     "data": {
      "text/plain": [
       "array([ 0.,  3.,  4.,  1., nan,  2.,  5.])"
      ]
     },
     "metadata": {},
     "output_type": "display_data"
    },
    {
     "name": "stdout",
     "output_type": "stream",
     "text": [
      "red_blood_cells\n"
     ]
    },
    {
     "data": {
      "text/plain": [
       "array([nan, 'normal', 'abnormal'], dtype=object)"
      ]
     },
     "metadata": {},
     "output_type": "display_data"
    },
    {
     "name": "stdout",
     "output_type": "stream",
     "text": [
      "pus_cells\n"
     ]
    },
    {
     "data": {
      "text/plain": [
       "array(['normal', 'abnormal', nan], dtype=object)"
      ]
     },
     "metadata": {},
     "output_type": "display_data"
    },
    {
     "name": "stdout",
     "output_type": "stream",
     "text": [
      "pus_cell_clumps\n"
     ]
    },
    {
     "data": {
      "text/plain": [
       "array(['notpresent', 'present', nan], dtype=object)"
      ]
     },
     "metadata": {},
     "output_type": "display_data"
    },
    {
     "name": "stdout",
     "output_type": "stream",
     "text": [
      "bacteria\n"
     ]
    },
    {
     "data": {
      "text/plain": [
       "array(['notpresent', 'present', nan], dtype=object)"
      ]
     },
     "metadata": {},
     "output_type": "display_data"
    },
    {
     "name": "stdout",
     "output_type": "stream",
     "text": [
      "blood_gluc_random\n"
     ]
    },
    {
     "data": {
      "text/plain": [
       "array([121.,  nan, 423., 117., 106.,  74., 100., 410., 138.,  70., 490.,\n",
       "       380., 208.,  98., 157.,  76.,  99., 114., 263., 173.,  95., 108.,\n",
       "       156., 264., 123.,  93., 107., 159., 140., 171., 270.,  92., 137.,\n",
       "       204.,  79., 207., 124., 144.,  91., 162., 246., 253., 141., 182.,\n",
       "        86., 150., 146., 425., 112., 250., 360., 163., 129., 133., 102.,\n",
       "       158., 165., 132., 104., 127., 415., 169., 251., 109., 280., 210.,\n",
       "       219., 295.,  94., 172., 101., 298., 153.,  88., 226., 143., 115.,\n",
       "        89., 297., 233., 294., 323., 125.,  90., 308., 118., 224., 128.,\n",
       "       122., 214., 213., 268., 256.,  84., 105., 288., 139.,  78., 273.,\n",
       "       242., 424., 303., 148., 160., 192., 307., 220., 447., 309.,  22.,\n",
       "       111., 261., 215., 234., 131., 352.,  80., 239., 110., 130., 184.,\n",
       "       252., 113., 230., 341., 255., 103., 238., 248., 120., 241., 269.,\n",
       "       201., 203., 463., 176.,  82., 119.,  97.,  96.,  81., 116., 134.,\n",
       "        85.,  83.,  87.,  75.])"
      ]
     },
     "metadata": {},
     "output_type": "display_data"
    },
    {
     "name": "stdout",
     "output_type": "stream",
     "text": [
      "blood_urea\n"
     ]
    },
    {
     "data": {
      "text/plain": [
       "array([ 36. ,  18. ,  53. ,  56. ,  26. ,  25. ,  54. ,  31. ,  60. ,\n",
       "       107. ,  55. ,  72. ,  86. ,  90. , 162. ,  46. ,  87. ,  27. ,\n",
       "       148. , 180. , 163. ,   nan,  50. ,  75. ,  45. ,  28. , 155. ,\n",
       "        33. ,  39. , 153. ,  29. ,  65. , 103. ,  70. ,  80. ,  20. ,\n",
       "       202. ,  77. ,  89. ,  24. ,  17. ,  32. , 114. ,  66. ,  38. ,\n",
       "       164. , 142. ,  96. , 391. ,  15. , 111. ,  73. ,  19. ,  92. ,\n",
       "        35. ,  16. , 139. ,  48. ,  85. ,  98. , 186. ,  37. ,  47. ,\n",
       "        52. ,  82. ,  51. , 106. ,  22. , 217. ,  88. , 118. ,  50.1,\n",
       "        71. ,  34. ,  40. ,  21. , 219. ,  30. , 125. , 166. ,  49. ,\n",
       "       208. , 176. ,  68. , 145. , 165. , 322. ,  23. , 235. , 132. ,\n",
       "        76. ,  42. ,  44. ,  41. , 113. ,   1.5, 146. ,  58. , 133. ,\n",
       "       137. ,  67. , 115. , 223. ,  98.6, 158. ,  94. ,  74. , 150. ,\n",
       "        61. ,  57. ,  95. , 191. ,  93. , 241. ,  64. ,  79. , 215. ,\n",
       "       309. ,  10. ])"
      ]
     },
     "metadata": {},
     "output_type": "display_data"
    },
    {
     "name": "stdout",
     "output_type": "stream",
     "text": [
      "serum_creatinine\n"
     ]
    },
    {
     "data": {
      "text/plain": [
       "array([ 1.2 ,  0.8 ,  1.8 ,  3.8 ,  1.4 ,  1.1 , 24.  ,  1.9 ,  7.2 ,\n",
       "        4.  ,  2.7 ,  2.1 ,  4.6 ,  4.1 ,  9.6 ,  2.2 ,  5.2 ,  1.3 ,\n",
       "        1.6 ,  3.9 , 76.  ,  7.7 ,   nan,  2.4 ,  7.3 ,  1.5 ,  2.5 ,\n",
       "        2.  ,  3.4 ,  0.7 ,  1.  , 10.8 ,  6.3 ,  5.9 ,  0.9 ,  3.  ,\n",
       "        3.25,  9.7 ,  6.4 ,  3.2 , 32.  ,  0.6 ,  6.1 ,  3.3 ,  6.7 ,\n",
       "        8.5 ,  2.8 , 15.  ,  2.9 ,  1.7 ,  3.6 ,  5.6 ,  6.5 ,  4.4 ,\n",
       "       10.2 , 11.5 ,  0.5 , 12.2 ,  5.3 ,  9.2 , 13.8 , 16.9 ,  6.  ,\n",
       "        7.1 , 18.  ,  2.3 , 13.  , 48.1 , 14.2 , 16.4 ,  2.6 ,  7.5 ,\n",
       "        4.3 , 18.1 , 11.8 ,  9.3 ,  6.8 , 13.5 , 12.8 , 11.9 , 12.  ,\n",
       "       13.4 , 15.2 , 13.3 ,  0.4 ])"
      ]
     },
     "metadata": {},
     "output_type": "display_data"
    },
    {
     "name": "stdout",
     "output_type": "stream",
     "text": [
      "sodium\n"
     ]
    },
    {
     "data": {
      "text/plain": [
       "array([  nan, 111. , 142. , 104. , 114. , 131. , 138. , 135. , 130. ,\n",
       "       141. , 139. ,   4.5, 136. , 129. , 140. , 132. , 133. , 134. ,\n",
       "       125. , 163. , 137. , 128. , 143. , 127. , 146. , 126. , 122. ,\n",
       "       147. , 124. , 115. , 145. , 113. , 120. , 150. , 144. ])"
      ]
     },
     "metadata": {},
     "output_type": "display_data"
    },
    {
     "name": "stdout",
     "output_type": "stream",
     "text": [
      "potassium\n"
     ]
    },
    {
     "data": {
      "text/plain": [
       "array([ nan,  2.5,  3.2,  4. ,  3.7,  4.2,  5.8,  3.4,  6.4,  4.9,  4.1,\n",
       "        4.3,  5.2,  3.8,  4.6,  3.9,  4.7,  5.9,  4.8,  4.4,  6.6, 39. ,\n",
       "        5.5,  5. ,  3.5,  3.6,  7.6,  2.9,  4.5,  5.7,  5.4,  5.3, 47. ,\n",
       "        6.3,  5.1,  5.6,  3. ,  2.8,  2.7,  6.5,  3.3])"
      ]
     },
     "metadata": {},
     "output_type": "display_data"
    },
    {
     "name": "stdout",
     "output_type": "stream",
     "text": [
      "hemoglobin\n"
     ]
    },
    {
     "data": {
      "text/plain": [
       "array([15.4, 11.3,  9.6, 11.2, 11.6, 12.2, 12.4, 10.8,  9.5,  9.4,  9.7,\n",
       "        9.8,  5.6,  7.6, 12.6, 12.1, 12.7, 10.3,  7.7, 10.9,  nan, 11.1,\n",
       "        9.9, 12.5, 12.9, 10.1, 12. , 13. ,  7.9,  9.3, 15. , 10. ,  8.6,\n",
       "       13.6, 10.2, 10.5,  6.6, 11. ,  7.5, 15.6, 15.2,  4.8,  9.1,  8.1,\n",
       "       11.9, 13.5,  8.3,  7.1, 16.1, 10.4,  9.2,  6.2, 13.9, 14.1,  6. ,\n",
       "       11.8, 11.7, 11.4, 14. ,  8.2, 13.2,  6.1,  8. , 12.3,  8.4, 14.3,\n",
       "        9. ,  8.7, 10.6, 13.1, 10.7,  5.5,  5.8,  6.8,  8.8,  8.5, 13.8,\n",
       "       11.5,  7.3, 13.7, 12.8, 13.4,  6.3,  3.1, 17. , 15.9, 14.5, 15.5,\n",
       "       16.2, 14.4, 14.2, 16.3, 14.8, 16.5, 15.7, 13.3, 14.6, 16.4, 16.9,\n",
       "       16. , 14.7, 16.6, 14.9, 16.7, 16.8, 15.8, 15.1, 17.1, 17.2, 15.3,\n",
       "       17.3, 17.4, 17.7, 17.8, 17.5, 17.6])"
      ]
     },
     "metadata": {},
     "output_type": "display_data"
    },
    {
     "name": "stdout",
     "output_type": "stream",
     "text": [
      "packed_cell_vol\n"
     ]
    },
    {
     "data": {
      "text/plain": [
       "array(['44', '38', '31', '32', '35', '39', '36', '33', '29', '28', nan,\n",
       "       '16', '24', '37', '30', '34', '40', '45', '27', '48', '\\t?', '52',\n",
       "       '14', '22', '18', '42', '17', '46', '23', '19', '25', '41', '26',\n",
       "       '15', '21', '43', '20', '\\t43', '47', '9', '49', '50', '53', '51',\n",
       "       '54'], dtype=object)"
      ]
     },
     "metadata": {},
     "output_type": "display_data"
    },
    {
     "name": "stdout",
     "output_type": "stream",
     "text": [
      "white_cell_count\n"
     ]
    },
    {
     "data": {
      "text/plain": [
       "array(['7800', '6000', '7500', '6700', '7300', nan, '6900', '9600',\n",
       "       '12100', '4500', '12200', '11000', '3800', '11400', '5300', '9200',\n",
       "       '6200', '8300', '8400', '10300', '9800', '9100', '7900', '6400',\n",
       "       '8600', '18900', '21600', '4300', '8500', '11300', '7200', '7700',\n",
       "       '14600', '6300', '\\t6200', '7100', '11800', '9400', '5500', '5800',\n",
       "       '13200', '12500', '5600', '7000', '11900', '10400', '10700',\n",
       "       '12700', '6800', '6500', '13600', '10200', '9000', '14900', '8200',\n",
       "       '15200', '5000', '16300', '12400', '\\t8400', '10500', '4200',\n",
       "       '4700', '10900', '8100', '9500', '2200', '12800', '11200', '19100',\n",
       "       '\\t?', '12300', '16700', '2600', '26400', '8800', '7400', '4900',\n",
       "       '8000', '12000', '15700', '4100', '5700', '11500', '5400', '10800',\n",
       "       '9900', '5200', '5900', '9300', '9700', '5100', '6600'],\n",
       "      dtype=object)"
      ]
     },
     "metadata": {},
     "output_type": "display_data"
    },
    {
     "name": "stdout",
     "output_type": "stream",
     "text": [
      "red_cell_count\n"
     ]
    },
    {
     "data": {
      "text/plain": [
       "array(['5.2', nan, '3.9', '4.6', '4.4', '5', '4.0', '3.7', '3.8', '3.4',\n",
       "       '2.6', '2.8', '4.3', '3.2', '3.6', '4', '4.1', '4.9', '2.5', '4.2',\n",
       "       '4.5', '3.1', '4.7', '3.5', '6.0', '5.0', '2.1', '5.6', '2.3',\n",
       "       '2.9', '2.7', '8.0', '3.3', '3.0', '3', '2.4', '4.8', '\\t?', '5.4',\n",
       "       '6.1', '6.2', '6.3', '5.1', '5.8', '5.5', '5.3', '6.4', '5.7',\n",
       "       '5.9', '6.5'], dtype=object)"
      ]
     },
     "metadata": {},
     "output_type": "display_data"
    },
    {
     "name": "stdout",
     "output_type": "stream",
     "text": [
      "hypertension\n"
     ]
    },
    {
     "data": {
      "text/plain": [
       "array(['yes', 'no', nan], dtype=object)"
      ]
     },
     "metadata": {},
     "output_type": "display_data"
    },
    {
     "name": "stdout",
     "output_type": "stream",
     "text": [
      "diabetes_mel\n"
     ]
    },
    {
     "data": {
      "text/plain": [
       "array(['yes', 'no', ' yes', '\\tno', '\\tyes', nan], dtype=object)"
      ]
     },
     "metadata": {},
     "output_type": "display_data"
    },
    {
     "name": "stdout",
     "output_type": "stream",
     "text": [
      "coronary_heart_disease\n"
     ]
    },
    {
     "data": {
      "text/plain": [
       "array(['no', 'yes', '\\tno', nan], dtype=object)"
      ]
     },
     "metadata": {},
     "output_type": "display_data"
    },
    {
     "name": "stdout",
     "output_type": "stream",
     "text": [
      "appetite\n"
     ]
    },
    {
     "data": {
      "text/plain": [
       "array(['good', 'poor', nan], dtype=object)"
      ]
     },
     "metadata": {},
     "output_type": "display_data"
    },
    {
     "name": "stdout",
     "output_type": "stream",
     "text": [
      "pedal_enema\n"
     ]
    },
    {
     "data": {
      "text/plain": [
       "array(['no', 'yes', nan], dtype=object)"
      ]
     },
     "metadata": {},
     "output_type": "display_data"
    },
    {
     "name": "stdout",
     "output_type": "stream",
     "text": [
      "anemia\n"
     ]
    },
    {
     "data": {
      "text/plain": [
       "array(['no', 'yes', nan], dtype=object)"
      ]
     },
     "metadata": {},
     "output_type": "display_data"
    },
    {
     "name": "stdout",
     "output_type": "stream",
     "text": [
      "class\n"
     ]
    },
    {
     "data": {
      "text/plain": [
       "array(['ckd', 'ckd\\t', 'notckd'], dtype=object)"
      ]
     },
     "metadata": {},
     "output_type": "display_data"
    }
   ],
   "source": [
    "df = df.drop(columns=['id'])\n",
    "for col in df.columns:\n",
    "    print(col)\n",
    "    display(df[col].unique())"
   ]
  },
  {
   "cell_type": "markdown",
   "metadata": {},
   "source": [
    "Based on the description of variables in the documentation, we expect that the values for packed cell volume (pcv), white blood cell count (wc), and red blood cell (rc) count to be continuous. However, they have been miscast as strings. \n",
    "\n",
    "Also, the categorical variables for diabaetes mellitus, coronary heart disease, and class have typos that need to be fixed."
   ]
  },
  {
   "cell_type": "code",
   "execution_count": 5,
   "metadata": {},
   "outputs": [
    {
     "name": "stdout",
     "output_type": "stream",
     "text": [
      "<class 'pandas.core.frame.DataFrame'>\n",
      "RangeIndex: 400 entries, 0 to 399\n",
      "Data columns (total 25 columns):\n",
      " #   Column                  Non-Null Count  Dtype  \n",
      "---  ------                  --------------  -----  \n",
      " 0   age                     391 non-null    float64\n",
      " 1   blood_pressure          388 non-null    float64\n",
      " 2   specific_gravity        353 non-null    float64\n",
      " 3   albumin                 354 non-null    float64\n",
      " 4   sugar                   351 non-null    float64\n",
      " 5   red_blood_cells         248 non-null    object \n",
      " 6   pus_cells               335 non-null    object \n",
      " 7   pus_cell_clumps         396 non-null    object \n",
      " 8   bacteria                396 non-null    object \n",
      " 9   blood_gluc_random       356 non-null    float64\n",
      " 10  blood_urea              381 non-null    float64\n",
      " 11  serum_creatinine        383 non-null    float64\n",
      " 12  sodium                  313 non-null    float64\n",
      " 13  potassium               312 non-null    float64\n",
      " 14  hemoglobin              348 non-null    float64\n",
      " 15  packed_cell_vol         329 non-null    float64\n",
      " 16  white_cell_count        294 non-null    float64\n",
      " 17  red_cell_count          269 non-null    float64\n",
      " 18  hypertension            398 non-null    object \n",
      " 19  diabetes_mel            398 non-null    object \n",
      " 20  coronary_heart_disease  398 non-null    object \n",
      " 21  appetite                399 non-null    object \n",
      " 22  pedal_enema             399 non-null    object \n",
      " 23  anemia                  399 non-null    object \n",
      " 24  class                   400 non-null    object \n",
      "dtypes: float64(14), object(11)\n",
      "memory usage: 78.3+ KB\n"
     ]
    }
   ],
   "source": [
    "err_cols = ['packed_cell_vol', 'red_cell_count', 'white_cell_count']\n",
    "\n",
    "for err_col in err_cols:\n",
    "    df[err_col] = df[err_col].replace('\\t?', np.nan)\n",
    "    df[err_col] = df[err_col].str.replace('\\t', '')\n",
    "    df[err_col] = df[err_col].astype(np.float64)\n",
    "\n",
    "# Checking that it converted properly, looking for float64 in the columns with problems\n",
    "df.info()"
   ]
  },
  {
   "cell_type": "code",
   "execution_count": 6,
   "metadata": {},
   "outputs": [
    {
     "name": "stdout",
     "output_type": "stream",
     "text": [
      "diabetes_mel\n"
     ]
    },
    {
     "data": {
      "text/plain": [
       "array(['yes', 'no', nan], dtype=object)"
      ]
     },
     "metadata": {},
     "output_type": "display_data"
    },
    {
     "name": "stdout",
     "output_type": "stream",
     "text": [
      "coronary_heart_disease\n"
     ]
    },
    {
     "data": {
      "text/plain": [
       "array(['no', 'yes', nan], dtype=object)"
      ]
     },
     "metadata": {},
     "output_type": "display_data"
    },
    {
     "name": "stdout",
     "output_type": "stream",
     "text": [
      "class\n"
     ]
    },
    {
     "data": {
      "text/plain": [
       "array(['ckd', 'notckd'], dtype=object)"
      ]
     },
     "metadata": {},
     "output_type": "display_data"
    }
   ],
   "source": [
    "err_cols = ['diabetes_mel', 'coronary_heart_disease', 'class']\n",
    "\n",
    "for err_col in err_cols:\n",
    "    print(err_col)\n",
    "    df[err_col] = df[err_col].str.replace('\\t', '')\n",
    "    df[err_col] = df[err_col].str.replace(' ', '')\n",
    "    display(df[err_col].unique())"
   ]
  },
  {
   "cell_type": "markdown",
   "metadata": {},
   "source": [
    "Now that typos and miscast variables have been cleaned up, we can continue with the analysis. "
   ]
  },
  {
   "cell_type": "code",
   "execution_count": 7,
   "metadata": {},
   "outputs": [
    {
     "data": {
      "text/html": [
       "<div>\n",
       "<style scoped>\n",
       "    .dataframe tbody tr th:only-of-type {\n",
       "        vertical-align: middle;\n",
       "    }\n",
       "\n",
       "    .dataframe tbody tr th {\n",
       "        vertical-align: top;\n",
       "    }\n",
       "\n",
       "    .dataframe thead th {\n",
       "        text-align: right;\n",
       "    }\n",
       "</style>\n",
       "<table border=\"1\" class=\"dataframe\">\n",
       "  <thead>\n",
       "    <tr style=\"text-align: right;\">\n",
       "      <th></th>\n",
       "      <th>age</th>\n",
       "      <th>blood_pressure</th>\n",
       "      <th>specific_gravity</th>\n",
       "      <th>albumin</th>\n",
       "      <th>sugar</th>\n",
       "      <th>blood_gluc_random</th>\n",
       "      <th>blood_urea</th>\n",
       "      <th>serum_creatinine</th>\n",
       "      <th>sodium</th>\n",
       "      <th>potassium</th>\n",
       "      <th>hemoglobin</th>\n",
       "      <th>packed_cell_vol</th>\n",
       "      <th>white_cell_count</th>\n",
       "      <th>red_cell_count</th>\n",
       "    </tr>\n",
       "  </thead>\n",
       "  <tbody>\n",
       "    <tr>\n",
       "      <th>count</th>\n",
       "      <td>391.000000</td>\n",
       "      <td>388.000000</td>\n",
       "      <td>353.000000</td>\n",
       "      <td>354.000000</td>\n",
       "      <td>351.000000</td>\n",
       "      <td>356.000000</td>\n",
       "      <td>381.000000</td>\n",
       "      <td>383.000000</td>\n",
       "      <td>313.000000</td>\n",
       "      <td>312.000000</td>\n",
       "      <td>348.000000</td>\n",
       "      <td>329.000000</td>\n",
       "      <td>294.000000</td>\n",
       "      <td>269.000000</td>\n",
       "    </tr>\n",
       "    <tr>\n",
       "      <th>mean</th>\n",
       "      <td>51.483376</td>\n",
       "      <td>76.469072</td>\n",
       "      <td>1.017408</td>\n",
       "      <td>1.016949</td>\n",
       "      <td>0.450142</td>\n",
       "      <td>148.036517</td>\n",
       "      <td>57.425722</td>\n",
       "      <td>3.072454</td>\n",
       "      <td>137.528754</td>\n",
       "      <td>4.627244</td>\n",
       "      <td>12.526437</td>\n",
       "      <td>38.884498</td>\n",
       "      <td>8406.122449</td>\n",
       "      <td>4.707435</td>\n",
       "    </tr>\n",
       "    <tr>\n",
       "      <th>std</th>\n",
       "      <td>17.169714</td>\n",
       "      <td>13.683637</td>\n",
       "      <td>0.005717</td>\n",
       "      <td>1.352679</td>\n",
       "      <td>1.099191</td>\n",
       "      <td>79.281714</td>\n",
       "      <td>50.503006</td>\n",
       "      <td>5.741126</td>\n",
       "      <td>10.408752</td>\n",
       "      <td>3.193904</td>\n",
       "      <td>2.912587</td>\n",
       "      <td>8.990105</td>\n",
       "      <td>2944.474190</td>\n",
       "      <td>1.025323</td>\n",
       "    </tr>\n",
       "    <tr>\n",
       "      <th>min</th>\n",
       "      <td>2.000000</td>\n",
       "      <td>50.000000</td>\n",
       "      <td>1.005000</td>\n",
       "      <td>0.000000</td>\n",
       "      <td>0.000000</td>\n",
       "      <td>22.000000</td>\n",
       "      <td>1.500000</td>\n",
       "      <td>0.400000</td>\n",
       "      <td>4.500000</td>\n",
       "      <td>2.500000</td>\n",
       "      <td>3.100000</td>\n",
       "      <td>9.000000</td>\n",
       "      <td>2200.000000</td>\n",
       "      <td>2.100000</td>\n",
       "    </tr>\n",
       "    <tr>\n",
       "      <th>25%</th>\n",
       "      <td>42.000000</td>\n",
       "      <td>70.000000</td>\n",
       "      <td>1.010000</td>\n",
       "      <td>0.000000</td>\n",
       "      <td>0.000000</td>\n",
       "      <td>99.000000</td>\n",
       "      <td>27.000000</td>\n",
       "      <td>0.900000</td>\n",
       "      <td>135.000000</td>\n",
       "      <td>3.800000</td>\n",
       "      <td>10.300000</td>\n",
       "      <td>32.000000</td>\n",
       "      <td>6500.000000</td>\n",
       "      <td>3.900000</td>\n",
       "    </tr>\n",
       "    <tr>\n",
       "      <th>50%</th>\n",
       "      <td>55.000000</td>\n",
       "      <td>80.000000</td>\n",
       "      <td>1.020000</td>\n",
       "      <td>0.000000</td>\n",
       "      <td>0.000000</td>\n",
       "      <td>121.000000</td>\n",
       "      <td>42.000000</td>\n",
       "      <td>1.300000</td>\n",
       "      <td>138.000000</td>\n",
       "      <td>4.400000</td>\n",
       "      <td>12.650000</td>\n",
       "      <td>40.000000</td>\n",
       "      <td>8000.000000</td>\n",
       "      <td>4.800000</td>\n",
       "    </tr>\n",
       "    <tr>\n",
       "      <th>75%</th>\n",
       "      <td>64.500000</td>\n",
       "      <td>80.000000</td>\n",
       "      <td>1.020000</td>\n",
       "      <td>2.000000</td>\n",
       "      <td>0.000000</td>\n",
       "      <td>163.000000</td>\n",
       "      <td>66.000000</td>\n",
       "      <td>2.800000</td>\n",
       "      <td>142.000000</td>\n",
       "      <td>4.900000</td>\n",
       "      <td>15.000000</td>\n",
       "      <td>45.000000</td>\n",
       "      <td>9800.000000</td>\n",
       "      <td>5.400000</td>\n",
       "    </tr>\n",
       "    <tr>\n",
       "      <th>max</th>\n",
       "      <td>90.000000</td>\n",
       "      <td>180.000000</td>\n",
       "      <td>1.025000</td>\n",
       "      <td>5.000000</td>\n",
       "      <td>5.000000</td>\n",
       "      <td>490.000000</td>\n",
       "      <td>391.000000</td>\n",
       "      <td>76.000000</td>\n",
       "      <td>163.000000</td>\n",
       "      <td>47.000000</td>\n",
       "      <td>17.800000</td>\n",
       "      <td>54.000000</td>\n",
       "      <td>26400.000000</td>\n",
       "      <td>8.000000</td>\n",
       "    </tr>\n",
       "  </tbody>\n",
       "</table>\n",
       "</div>"
      ],
      "text/plain": [
       "              age  blood_pressure  specific_gravity     albumin       sugar  \\\n",
       "count  391.000000      388.000000        353.000000  354.000000  351.000000   \n",
       "mean    51.483376       76.469072          1.017408    1.016949    0.450142   \n",
       "std     17.169714       13.683637          0.005717    1.352679    1.099191   \n",
       "min      2.000000       50.000000          1.005000    0.000000    0.000000   \n",
       "25%     42.000000       70.000000          1.010000    0.000000    0.000000   \n",
       "50%     55.000000       80.000000          1.020000    0.000000    0.000000   \n",
       "75%     64.500000       80.000000          1.020000    2.000000    0.000000   \n",
       "max     90.000000      180.000000          1.025000    5.000000    5.000000   \n",
       "\n",
       "       blood_gluc_random  blood_urea  serum_creatinine      sodium  \\\n",
       "count         356.000000  381.000000        383.000000  313.000000   \n",
       "mean          148.036517   57.425722          3.072454  137.528754   \n",
       "std            79.281714   50.503006          5.741126   10.408752   \n",
       "min            22.000000    1.500000          0.400000    4.500000   \n",
       "25%            99.000000   27.000000          0.900000  135.000000   \n",
       "50%           121.000000   42.000000          1.300000  138.000000   \n",
       "75%           163.000000   66.000000          2.800000  142.000000   \n",
       "max           490.000000  391.000000         76.000000  163.000000   \n",
       "\n",
       "        potassium  hemoglobin  packed_cell_vol  white_cell_count  \\\n",
       "count  312.000000  348.000000       329.000000        294.000000   \n",
       "mean     4.627244   12.526437        38.884498       8406.122449   \n",
       "std      3.193904    2.912587         8.990105       2944.474190   \n",
       "min      2.500000    3.100000         9.000000       2200.000000   \n",
       "25%      3.800000   10.300000        32.000000       6500.000000   \n",
       "50%      4.400000   12.650000        40.000000       8000.000000   \n",
       "75%      4.900000   15.000000        45.000000       9800.000000   \n",
       "max     47.000000   17.800000        54.000000      26400.000000   \n",
       "\n",
       "       red_cell_count  \n",
       "count      269.000000  \n",
       "mean         4.707435  \n",
       "std          1.025323  \n",
       "min          2.100000  \n",
       "25%          3.900000  \n",
       "50%          4.800000  \n",
       "75%          5.400000  \n",
       "max          8.000000  "
      ]
     },
     "execution_count": 7,
     "metadata": {},
     "output_type": "execute_result"
    }
   ],
   "source": [
    "df.describe()"
   ]
  },
  {
   "cell_type": "markdown",
   "metadata": {},
   "source": [
    "Based on the description of the continuous variables, we can see that the scale of the columns are very different. For example, the max value of blood pressure (bp) is 180, while specific gravity's (sg) max vaule is 1.03. So, the variables will need to be scaled so the data is not skewed in the direction of the larger variables. "
   ]
  },
  {
   "cell_type": "markdown",
   "metadata": {},
   "source": [
    "To make the data easier to read, we will replace the names with more descriptive names."
   ]
  },
  {
   "cell_type": "markdown",
   "metadata": {},
   "source": [
    "### Question 3 - Dataset Overview\n",
    "Based on the initial exploration shown above and the documentation associated with the dataset, we know the following about the data. \n",
    "* There are 400 patients recorded with 25 variables recorded for each. These variables can be seperated into categorical, binary, and continuous variables. The list of variables are: age, blood pressure (bp), specific gravity (sg), albumin (al), sugar (su), red blood cells (rbc), pus cell (pc), pus cell clumps (pcc), bacteria (ba), blood glucose random (bgr), blood urea (bu), serum creatinine (sc), sodium (sod), potassium (pot), hemoglobin (hemo), packed cell volume (pcv), white blood cell count (wc), red blood cell count (rc), hyptertension (htn), coronary artery disease (cad), diabetes mellitus (dm), appetite (appet), pedal edema (pe), anemia (ane).\n",
    "* Based on the standard deviation\n",
    "* *****\n",
    "\n",
    "\n",
    "### Question 4 - Association Between Variables\n",
    "To do this, we can look at the covariance structure of the numerical variables."
   ]
  },
  {
   "cell_type": "code",
   "execution_count": 8,
   "metadata": {},
   "outputs": [
    {
     "data": {
      "text/html": [
       "<style type=\"text/css\">\n",
       "#T_d1564_row0_col0, #T_d1564_row1_col1, #T_d1564_row2_col2, #T_d1564_row3_col3, #T_d1564_row4_col4, #T_d1564_row5_col5, #T_d1564_row6_col6, #T_d1564_row7_col7, #T_d1564_row8_col8, #T_d1564_row9_col9, #T_d1564_row10_col10, #T_d1564_row11_col11, #T_d1564_row12_col12, #T_d1564_row13_col13 {\n",
       "  background-color: #b40426;\n",
       "  color: #f1f1f1;\n",
       "}\n",
       "#T_d1564_row0_col1, #T_d1564_row9_col5 {\n",
       "  background-color: #b3cdfb;\n",
       "  color: #000000;\n",
       "}\n",
       "#T_d1564_row0_col2, #T_d1564_row4_col13 {\n",
       "  background-color: #799cf8;\n",
       "  color: #f1f1f1;\n",
       "}\n",
       "#T_d1564_row0_col3, #T_d1564_row4_col7 {\n",
       "  background-color: #e6d7cf;\n",
       "  color: #000000;\n",
       "}\n",
       "#T_d1564_row0_col4, #T_d1564_row5_col0, #T_d1564_row7_col4, #T_d1564_row12_col7 {\n",
       "  background-color: #cedaeb;\n",
       "  color: #000000;\n",
       "}\n",
       "#T_d1564_row0_col5 {\n",
       "  background-color: #dfdbd9;\n",
       "  color: #000000;\n",
       "}\n",
       "#T_d1564_row0_col6 {\n",
       "  background-color: #dcdddd;\n",
       "  color: #000000;\n",
       "}\n",
       "#T_d1564_row0_col7 {\n",
       "  background-color: #dbdcde;\n",
       "  color: #000000;\n",
       "}\n",
       "#T_d1564_row0_col8 {\n",
       "  background-color: #97b8ff;\n",
       "  color: #000000;\n",
       "}\n",
       "#T_d1564_row0_col9, #T_d1564_row5_col8 {\n",
       "  background-color: #6e90f2;\n",
       "  color: #f1f1f1;\n",
       "}\n",
       "#T_d1564_row0_col10 {\n",
       "  background-color: #96b7ff;\n",
       "  color: #000000;\n",
       "}\n",
       "#T_d1564_row0_col11 {\n",
       "  background-color: #90b2fe;\n",
       "  color: #000000;\n",
       "}\n",
       "#T_d1564_row0_col12, #T_d1564_row12_col0 {\n",
       "  background-color: #b5cdfa;\n",
       "  color: #000000;\n",
       "}\n",
       "#T_d1564_row0_col13, #T_d1564_row4_col11 {\n",
       "  background-color: #82a6fb;\n",
       "  color: #f1f1f1;\n",
       "}\n",
       "#T_d1564_row1_col0, #T_d1564_row6_col9 {\n",
       "  background-color: #aec9fc;\n",
       "  color: #000000;\n",
       "}\n",
       "#T_d1564_row1_col2 {\n",
       "  background-color: #81a4fb;\n",
       "  color: #f1f1f1;\n",
       "}\n",
       "#T_d1564_row1_col3 {\n",
       "  background-color: #eed0c0;\n",
       "  color: #000000;\n",
       "}\n",
       "#T_d1564_row1_col4, #T_d1564_row7_col5 {\n",
       "  background-color: #d5dbe5;\n",
       "  color: #000000;\n",
       "}\n",
       "#T_d1564_row1_col5 {\n",
       "  background-color: #d3dbe7;\n",
       "  color: #000000;\n",
       "}\n",
       "#T_d1564_row1_col6 {\n",
       "  background-color: #ead4c8;\n",
       "  color: #000000;\n",
       "}\n",
       "#T_d1564_row1_col7 {\n",
       "  background-color: #f2cab5;\n",
       "  color: #000000;\n",
       "}\n",
       "#T_d1564_row1_col8, #T_d1564_row9_col0, #T_d1564_row12_col11 {\n",
       "  background-color: #86a9fc;\n",
       "  color: #f1f1f1;\n",
       "}\n",
       "#T_d1564_row1_col9, #T_d1564_row1_col10, #T_d1564_row12_col10 {\n",
       "  background-color: #89acfd;\n",
       "  color: #000000;\n",
       "}\n",
       "#T_d1564_row1_col11, #T_d1564_row5_col9, #T_d1564_row5_col10, #T_d1564_row12_col2 {\n",
       "  background-color: #80a3fa;\n",
       "  color: #f1f1f1;\n",
       "}\n",
       "#T_d1564_row1_col12, #T_d1564_row7_col12 {\n",
       "  background-color: #9bbcff;\n",
       "  color: #000000;\n",
       "}\n",
       "#T_d1564_row1_col13, #T_d1564_row12_col13 {\n",
       "  background-color: #84a7fc;\n",
       "  color: #f1f1f1;\n",
       "}\n",
       "#T_d1564_row2_col0, #T_d1564_row2_col4, #T_d1564_row2_col5, #T_d1564_row3_col2, #T_d1564_row3_col8, #T_d1564_row3_col10, #T_d1564_row3_col11, #T_d1564_row3_col13, #T_d1564_row6_col13, #T_d1564_row7_col13, #T_d1564_row10_col3, #T_d1564_row10_col6, #T_d1564_row10_col7, #T_d1564_row10_col12, #T_d1564_row11_col1, #T_d1564_row11_col7, #T_d1564_row11_col9, #T_d1564_row11_col12 {\n",
       "  background-color: #3b4cc0;\n",
       "  color: #f1f1f1;\n",
       "}\n",
       "#T_d1564_row2_col1, #T_d1564_row6_col8, #T_d1564_row13_col12 {\n",
       "  background-color: #4a63d3;\n",
       "  color: #f1f1f1;\n",
       "}\n",
       "#T_d1564_row2_col3 {\n",
       "  background-color: #4c66d6;\n",
       "  color: #f1f1f1;\n",
       "}\n",
       "#T_d1564_row2_col6 {\n",
       "  background-color: #5d7ce6;\n",
       "  color: #f1f1f1;\n",
       "}\n",
       "#T_d1564_row2_col7 {\n",
       "  background-color: #5875e1;\n",
       "  color: #f1f1f1;\n",
       "}\n",
       "#T_d1564_row2_col8 {\n",
       "  background-color: #f7b194;\n",
       "  color: #000000;\n",
       "}\n",
       "#T_d1564_row2_col9, #T_d1564_row8_col9 {\n",
       "  background-color: #5f7fe8;\n",
       "  color: #f1f1f1;\n",
       "}\n",
       "#T_d1564_row2_col10 {\n",
       "  background-color: #eb7d62;\n",
       "  color: #f1f1f1;\n",
       "}\n",
       "#T_d1564_row2_col11 {\n",
       "  background-color: #ec8165;\n",
       "  color: #f1f1f1;\n",
       "}\n",
       "#T_d1564_row2_col12 {\n",
       "  background-color: #4257c9;\n",
       "  color: #f1f1f1;\n",
       "}\n",
       "#T_d1564_row2_col13 {\n",
       "  background-color: #f39778;\n",
       "  color: #000000;\n",
       "}\n",
       "#T_d1564_row3_col0, #T_d1564_row5_col12 {\n",
       "  background-color: #bcd2f7;\n",
       "  color: #000000;\n",
       "}\n",
       "#T_d1564_row3_col1, #T_d1564_row12_col6 {\n",
       "  background-color: #d1dae9;\n",
       "  color: #000000;\n",
       "}\n",
       "#T_d1564_row3_col4 {\n",
       "  background-color: #efcebd;\n",
       "  color: #000000;\n",
       "}\n",
       "#T_d1564_row3_col5 {\n",
       "  background-color: #f3c7b1;\n",
       "  color: #000000;\n",
       "}\n",
       "#T_d1564_row3_col6 {\n",
       "  background-color: #f39475;\n",
       "  color: #000000;\n",
       "}\n",
       "#T_d1564_row3_col7 {\n",
       "  background-color: #f18d6f;\n",
       "  color: #f1f1f1;\n",
       "}\n",
       "#T_d1564_row3_col9, #T_d1564_row9_col1 {\n",
       "  background-color: #a5c3fe;\n",
       "  color: #000000;\n",
       "}\n",
       "#T_d1564_row3_col12 {\n",
       "  background-color: #cad8ef;\n",
       "  color: #000000;\n",
       "}\n",
       "#T_d1564_row4_col0, #T_d1564_row5_col1 {\n",
       "  background-color: #c3d5f4;\n",
       "  color: #000000;\n",
       "}\n",
       "#T_d1564_row4_col1, #T_d1564_row6_col1 {\n",
       "  background-color: #cdd9ec;\n",
       "  color: #000000;\n",
       "}\n",
       "#T_d1564_row4_col2, #T_d1564_row8_col0 {\n",
       "  background-color: #6485ec;\n",
       "  color: #f1f1f1;\n",
       "}\n",
       "#T_d1564_row4_col3 {\n",
       "  background-color: #f7b99e;\n",
       "  color: #000000;\n",
       "}\n",
       "#T_d1564_row4_col5 {\n",
       "  background-color: #e26952;\n",
       "  color: #f1f1f1;\n",
       "}\n",
       "#T_d1564_row4_col6, #T_d1564_row9_col3 {\n",
       "  background-color: #e4d9d2;\n",
       "  color: #000000;\n",
       "}\n",
       "#T_d1564_row4_col8 {\n",
       "  background-color: #7699f6;\n",
       "  color: #f1f1f1;\n",
       "}\n",
       "#T_d1564_row4_col9 {\n",
       "  background-color: #a3c2fe;\n",
       "  color: #000000;\n",
       "}\n",
       "#T_d1564_row4_col10, #T_d1564_row12_col8 {\n",
       "  background-color: #8badfd;\n",
       "  color: #000000;\n",
       "}\n",
       "#T_d1564_row4_col12 {\n",
       "  background-color: #c0d4f5;\n",
       "  color: #000000;\n",
       "}\n",
       "#T_d1564_row5_col2, #T_d1564_row8_col3 {\n",
       "  background-color: #5572df;\n",
       "  color: #f1f1f1;\n",
       "}\n",
       "#T_d1564_row5_col3 {\n",
       "  background-color: #f7b79b;\n",
       "  color: #000000;\n",
       "}\n",
       "#T_d1564_row5_col4 {\n",
       "  background-color: #e36c55;\n",
       "  color: #f1f1f1;\n",
       "}\n",
       "#T_d1564_row5_col6 {\n",
       "  background-color: #e8d6cc;\n",
       "  color: #000000;\n",
       "}\n",
       "#T_d1564_row5_col7, #T_d1564_row9_col6 {\n",
       "  background-color: #e5d8d1;\n",
       "  color: #000000;\n",
       "}\n",
       "#T_d1564_row5_col11 {\n",
       "  background-color: #7a9df8;\n",
       "  color: #f1f1f1;\n",
       "}\n",
       "#T_d1564_row5_col13 {\n",
       "  background-color: #7093f3;\n",
       "  color: #f1f1f1;\n",
       "}\n",
       "#T_d1564_row6_col0 {\n",
       "  background-color: #b2ccfb;\n",
       "  color: #000000;\n",
       "}\n",
       "#T_d1564_row6_col2, #T_d1564_row10_col5 {\n",
       "  background-color: #536edd;\n",
       "  color: #f1f1f1;\n",
       "}\n",
       "#T_d1564_row6_col3 {\n",
       "  background-color: #f29274;\n",
       "  color: #f1f1f1;\n",
       "}\n",
       "#T_d1564_row6_col4 {\n",
       "  background-color: #cbd8ee;\n",
       "  color: #000000;\n",
       "}\n",
       "#T_d1564_row6_col5 {\n",
       "  background-color: #d8dce2;\n",
       "  color: #000000;\n",
       "}\n",
       "#T_d1564_row6_col7, #T_d1564_row7_col6 {\n",
       "  background-color: #d1493f;\n",
       "  color: #f1f1f1;\n",
       "}\n",
       "#T_d1564_row6_col10, #T_d1564_row7_col10 {\n",
       "  background-color: #4358cb;\n",
       "  color: #f1f1f1;\n",
       "}\n",
       "#T_d1564_row6_col11, #T_d1564_row7_col11, #T_d1564_row10_col1, #T_d1564_row10_col9 {\n",
       "  background-color: #4055c8;\n",
       "  color: #f1f1f1;\n",
       "}\n",
       "#T_d1564_row6_col12 {\n",
       "  background-color: #9fbfff;\n",
       "  color: #000000;\n",
       "}\n",
       "#T_d1564_row7_col0, #T_d1564_row9_col2 {\n",
       "  background-color: #afcafc;\n",
       "  color: #000000;\n",
       "}\n",
       "#T_d1564_row7_col1 {\n",
       "  background-color: #dedcdb;\n",
       "  color: #000000;\n",
       "}\n",
       "#T_d1564_row7_col2 {\n",
       "  background-color: #4e68d8;\n",
       "  color: #f1f1f1;\n",
       "}\n",
       "#T_d1564_row7_col3 {\n",
       "  background-color: #f08b6e;\n",
       "  color: #f1f1f1;\n",
       "}\n",
       "#T_d1564_row7_col8, #T_d1564_row13_col0 {\n",
       "  background-color: #465ecf;\n",
       "  color: #f1f1f1;\n",
       "}\n",
       "#T_d1564_row7_col9, #T_d1564_row9_col13 {\n",
       "  background-color: #92b4fe;\n",
       "  color: #000000;\n",
       "}\n",
       "#T_d1564_row8_col1, #T_d1564_row13_col5 {\n",
       "  background-color: #5977e3;\n",
       "  color: #f1f1f1;\n",
       "}\n",
       "#T_d1564_row8_col2 {\n",
       "  background-color: #f7ad90;\n",
       "  color: #000000;\n",
       "}\n",
       "#T_d1564_row8_col4 {\n",
       "  background-color: #5470de;\n",
       "  color: #f1f1f1;\n",
       "}\n",
       "#T_d1564_row8_col5 {\n",
       "  background-color: #5b7ae5;\n",
       "  color: #f1f1f1;\n",
       "}\n",
       "#T_d1564_row8_col6 {\n",
       "  background-color: #5e7de7;\n",
       "  color: #f1f1f1;\n",
       "}\n",
       "#T_d1564_row8_col7 {\n",
       "  background-color: #5a78e4;\n",
       "  color: #f1f1f1;\n",
       "}\n",
       "#T_d1564_row8_col10 {\n",
       "  background-color: #f5a081;\n",
       "  color: #000000;\n",
       "}\n",
       "#T_d1564_row8_col11 {\n",
       "  background-color: #f6a385;\n",
       "  color: #000000;\n",
       "}\n",
       "#T_d1564_row8_col12 {\n",
       "  background-color: #5673e0;\n",
       "  color: #f1f1f1;\n",
       "}\n",
       "#T_d1564_row8_col13 {\n",
       "  background-color: #f6bda2;\n",
       "  color: #000000;\n",
       "}\n",
       "#T_d1564_row9_col4 {\n",
       "  background-color: #c5d6f2;\n",
       "  color: #000000;\n",
       "}\n",
       "#T_d1564_row9_col7 {\n",
       "  background-color: #d6dce4;\n",
       "  color: #000000;\n",
       "}\n",
       "#T_d1564_row9_col8 {\n",
       "  background-color: #a7c5fe;\n",
       "  color: #000000;\n",
       "}\n",
       "#T_d1564_row9_col10 {\n",
       "  background-color: #a6c4fe;\n",
       "  color: #000000;\n",
       "}\n",
       "#T_d1564_row9_col11 {\n",
       "  background-color: #9ebeff;\n",
       "  color: #000000;\n",
       "}\n",
       "#T_d1564_row9_col12 {\n",
       "  background-color: #6a8bef;\n",
       "  color: #f1f1f1;\n",
       "}\n",
       "#T_d1564_row10_col0, #T_d1564_row13_col7 {\n",
       "  background-color: #485fd1;\n",
       "  color: #f1f1f1;\n",
       "}\n",
       "#T_d1564_row10_col2 {\n",
       "  background-color: #ed8366;\n",
       "  color: #f1f1f1;\n",
       "}\n",
       "#T_d1564_row10_col4, #T_d1564_row11_col5, #T_d1564_row13_col3 {\n",
       "  background-color: #4f69d9;\n",
       "  color: #f1f1f1;\n",
       "}\n",
       "#T_d1564_row10_col8 {\n",
       "  background-color: #f7aa8c;\n",
       "  color: #000000;\n",
       "}\n",
       "#T_d1564_row10_col11, #T_d1564_row11_col10 {\n",
       "  background-color: #d0473d;\n",
       "  color: #f1f1f1;\n",
       "}\n",
       "#T_d1564_row10_col13, #T_d1564_row11_col13 {\n",
       "  background-color: #e36b54;\n",
       "  color: #f1f1f1;\n",
       "}\n",
       "#T_d1564_row11_col0 {\n",
       "  background-color: #445acc;\n",
       "  color: #f1f1f1;\n",
       "}\n",
       "#T_d1564_row11_col2 {\n",
       "  background-color: #ee8468;\n",
       "  color: #f1f1f1;\n",
       "}\n",
       "#T_d1564_row11_col3, #T_d1564_row13_col9 {\n",
       "  background-color: #3d50c3;\n",
       "  color: #f1f1f1;\n",
       "}\n",
       "#T_d1564_row11_col4, #T_d1564_row13_col6 {\n",
       "  background-color: #4961d2;\n",
       "  color: #f1f1f1;\n",
       "}\n",
       "#T_d1564_row11_col6 {\n",
       "  background-color: #3c4ec2;\n",
       "  color: #f1f1f1;\n",
       "}\n",
       "#T_d1564_row11_col8 {\n",
       "  background-color: #f7ac8e;\n",
       "  color: #000000;\n",
       "}\n",
       "#T_d1564_row12_col1 {\n",
       "  background-color: #a1c0ff;\n",
       "  color: #000000;\n",
       "}\n",
       "#T_d1564_row12_col3 {\n",
       "  background-color: #edd2c3;\n",
       "  color: #000000;\n",
       "}\n",
       "#T_d1564_row12_col4 {\n",
       "  background-color: #ccd9ed;\n",
       "  color: #000000;\n",
       "}\n",
       "#T_d1564_row12_col5 {\n",
       "  background-color: #d2dbe8;\n",
       "  color: #000000;\n",
       "}\n",
       "#T_d1564_row12_col9, #T_d1564_row13_col1 {\n",
       "  background-color: #506bda;\n",
       "  color: #f1f1f1;\n",
       "}\n",
       "#T_d1564_row13_col2 {\n",
       "  background-color: #f39577;\n",
       "  color: #000000;\n",
       "}\n",
       "#T_d1564_row13_col4 {\n",
       "  background-color: #516ddb;\n",
       "  color: #f1f1f1;\n",
       "}\n",
       "#T_d1564_row13_col8 {\n",
       "  background-color: #f6bfa6;\n",
       "  color: #000000;\n",
       "}\n",
       "#T_d1564_row13_col10 {\n",
       "  background-color: #e0654f;\n",
       "  color: #f1f1f1;\n",
       "}\n",
       "#T_d1564_row13_col11 {\n",
       "  background-color: #e16751;\n",
       "  color: #f1f1f1;\n",
       "}\n",
       "</style>\n",
       "<table id=\"T_d1564\">\n",
       "  <thead>\n",
       "    <tr>\n",
       "      <th class=\"blank level0\" >&nbsp;</th>\n",
       "      <th id=\"T_d1564_level0_col0\" class=\"col_heading level0 col0\" >age</th>\n",
       "      <th id=\"T_d1564_level0_col1\" class=\"col_heading level0 col1\" >blood_pressure</th>\n",
       "      <th id=\"T_d1564_level0_col2\" class=\"col_heading level0 col2\" >specific_gravity</th>\n",
       "      <th id=\"T_d1564_level0_col3\" class=\"col_heading level0 col3\" >albumin</th>\n",
       "      <th id=\"T_d1564_level0_col4\" class=\"col_heading level0 col4\" >sugar</th>\n",
       "      <th id=\"T_d1564_level0_col5\" class=\"col_heading level0 col5\" >blood_gluc_random</th>\n",
       "      <th id=\"T_d1564_level0_col6\" class=\"col_heading level0 col6\" >blood_urea</th>\n",
       "      <th id=\"T_d1564_level0_col7\" class=\"col_heading level0 col7\" >serum_creatinine</th>\n",
       "      <th id=\"T_d1564_level0_col8\" class=\"col_heading level0 col8\" >sodium</th>\n",
       "      <th id=\"T_d1564_level0_col9\" class=\"col_heading level0 col9\" >potassium</th>\n",
       "      <th id=\"T_d1564_level0_col10\" class=\"col_heading level0 col10\" >hemoglobin</th>\n",
       "      <th id=\"T_d1564_level0_col11\" class=\"col_heading level0 col11\" >packed_cell_vol</th>\n",
       "      <th id=\"T_d1564_level0_col12\" class=\"col_heading level0 col12\" >white_cell_count</th>\n",
       "      <th id=\"T_d1564_level0_col13\" class=\"col_heading level0 col13\" >red_cell_count</th>\n",
       "    </tr>\n",
       "  </thead>\n",
       "  <tbody>\n",
       "    <tr>\n",
       "      <th id=\"T_d1564_level0_row0\" class=\"row_heading level0 row0\" >age</th>\n",
       "      <td id=\"T_d1564_row0_col0\" class=\"data row0 col0\" >1.00</td>\n",
       "      <td id=\"T_d1564_row0_col1\" class=\"data row0 col1\" >0.15</td>\n",
       "      <td id=\"T_d1564_row0_col2\" class=\"data row0 col2\" >-0.30</td>\n",
       "      <td id=\"T_d1564_row0_col3\" class=\"data row0 col3\" >0.21</td>\n",
       "      <td id=\"T_d1564_row0_col4\" class=\"data row0 col4\" >0.23</td>\n",
       "      <td id=\"T_d1564_row0_col5\" class=\"data row0 col5\" >0.28</td>\n",
       "      <td id=\"T_d1564_row0_col6\" class=\"data row0 col6\" >0.16</td>\n",
       "      <td id=\"T_d1564_row0_col7\" class=\"data row0 col7\" >0.16</td>\n",
       "      <td id=\"T_d1564_row0_col8\" class=\"data row0 col8\" >-0.13</td>\n",
       "      <td id=\"T_d1564_row0_col9\" class=\"data row0 col9\" >0.00</td>\n",
       "      <td id=\"T_d1564_row0_col10\" class=\"data row0 col10\" >-0.24</td>\n",
       "      <td id=\"T_d1564_row0_col11\" class=\"data row0 col11\" >-0.25</td>\n",
       "      <td id=\"T_d1564_row0_col12\" class=\"data row0 col12\" >0.17</td>\n",
       "      <td id=\"T_d1564_row0_col13\" class=\"data row0 col13\" >-0.24</td>\n",
       "    </tr>\n",
       "    <tr>\n",
       "      <th id=\"T_d1564_level0_row1\" class=\"row_heading level0 row1\" >blood_pressure</th>\n",
       "      <td id=\"T_d1564_row1_col0\" class=\"data row1 col0\" >0.15</td>\n",
       "      <td id=\"T_d1564_row1_col1\" class=\"data row1 col1\" >1.00</td>\n",
       "      <td id=\"T_d1564_row1_col2\" class=\"data row1 col2\" >-0.26</td>\n",
       "      <td id=\"T_d1564_row1_col3\" class=\"data row1 col3\" >0.28</td>\n",
       "      <td id=\"T_d1564_row1_col4\" class=\"data row1 col4\" >0.26</td>\n",
       "      <td id=\"T_d1564_row1_col5\" class=\"data row1 col5\" >0.21</td>\n",
       "      <td id=\"T_d1564_row1_col6\" class=\"data row1 col6\" >0.26</td>\n",
       "      <td id=\"T_d1564_row1_col7\" class=\"data row1 col7\" >0.34</td>\n",
       "      <td id=\"T_d1564_row1_col8\" class=\"data row1 col8\" >-0.20</td>\n",
       "      <td id=\"T_d1564_row1_col9\" class=\"data row1 col9\" >0.09</td>\n",
       "      <td id=\"T_d1564_row1_col10\" class=\"data row1 col10\" >-0.30</td>\n",
       "      <td id=\"T_d1564_row1_col11\" class=\"data row1 col11\" >-0.33</td>\n",
       "      <td id=\"T_d1564_row1_col12\" class=\"data row1 col12\" >0.08</td>\n",
       "      <td id=\"T_d1564_row1_col13\" class=\"data row1 col13\" >-0.24</td>\n",
       "    </tr>\n",
       "    <tr>\n",
       "      <th id=\"T_d1564_level0_row2\" class=\"row_heading level0 row2\" >specific_gravity</th>\n",
       "      <td id=\"T_d1564_row2_col0\" class=\"data row2 col0\" >-0.30</td>\n",
       "      <td id=\"T_d1564_row2_col1\" class=\"data row2 col1\" >-0.26</td>\n",
       "      <td id=\"T_d1564_row2_col2\" class=\"data row2 col2\" >1.00</td>\n",
       "      <td id=\"T_d1564_row2_col3\" class=\"data row2 col3\" >-0.61</td>\n",
       "      <td id=\"T_d1564_row2_col4\" class=\"data row2 col4\" >-0.39</td>\n",
       "      <td id=\"T_d1564_row2_col5\" class=\"data row2 col5\" >-0.46</td>\n",
       "      <td id=\"T_d1564_row2_col6\" class=\"data row2 col6\" >-0.48</td>\n",
       "      <td id=\"T_d1564_row2_col7\" class=\"data row2 col7\" >-0.51</td>\n",
       "      <td id=\"T_d1564_row2_col8\" class=\"data row2 col8\" >0.51</td>\n",
       "      <td id=\"T_d1564_row2_col9\" class=\"data row2 col9\" >-0.05</td>\n",
       "      <td id=\"T_d1564_row2_col10\" class=\"data row2 col10\" >0.68</td>\n",
       "      <td id=\"T_d1564_row2_col11\" class=\"data row2 col11\" >0.67</td>\n",
       "      <td id=\"T_d1564_row2_col12\" class=\"data row2 col12\" >-0.27</td>\n",
       "      <td id=\"T_d1564_row2_col13\" class=\"data row2 col13\" >0.61</td>\n",
       "    </tr>\n",
       "    <tr>\n",
       "      <th id=\"T_d1564_level0_row3\" class=\"row_heading level0 row3\" >albumin</th>\n",
       "      <td id=\"T_d1564_row3_col0\" class=\"data row3 col0\" >0.21</td>\n",
       "      <td id=\"T_d1564_row3_col1\" class=\"data row3 col1\" >0.28</td>\n",
       "      <td id=\"T_d1564_row3_col2\" class=\"data row3 col2\" >-0.61</td>\n",
       "      <td id=\"T_d1564_row3_col3\" class=\"data row3 col3\" >1.00</td>\n",
       "      <td id=\"T_d1564_row3_col4\" class=\"data row3 col4\" >0.42</td>\n",
       "      <td id=\"T_d1564_row3_col5\" class=\"data row3 col5\" >0.44</td>\n",
       "      <td id=\"T_d1564_row3_col6\" class=\"data row3 col6\" >0.60</td>\n",
       "      <td id=\"T_d1564_row3_col7\" class=\"data row3 col7\" >0.63</td>\n",
       "      <td id=\"T_d1564_row3_col8\" class=\"data row3 col8\" >-0.56</td>\n",
       "      <td id=\"T_d1564_row3_col9\" class=\"data row3 col9\" >0.19</td>\n",
       "      <td id=\"T_d1564_row3_col10\" class=\"data row3 col10\" >-0.71</td>\n",
       "      <td id=\"T_d1564_row3_col11\" class=\"data row3 col11\" >-0.69</td>\n",
       "      <td id=\"T_d1564_row3_col12\" class=\"data row3 col12\" >0.26</td>\n",
       "      <td id=\"T_d1564_row3_col13\" class=\"data row3 col13\" >-0.59</td>\n",
       "    </tr>\n",
       "    <tr>\n",
       "      <th id=\"T_d1564_level0_row4\" class=\"row_heading level0 row4\" >sugar</th>\n",
       "      <td id=\"T_d1564_row4_col0\" class=\"data row4 col0\" >0.23</td>\n",
       "      <td id=\"T_d1564_row4_col1\" class=\"data row4 col1\" >0.26</td>\n",
       "      <td id=\"T_d1564_row4_col2\" class=\"data row4 col2\" >-0.39</td>\n",
       "      <td id=\"T_d1564_row4_col3\" class=\"data row4 col3\" >0.42</td>\n",
       "      <td id=\"T_d1564_row4_col4\" class=\"data row4 col4\" >1.00</td>\n",
       "      <td id=\"T_d1564_row4_col5\" class=\"data row4 col5\" >0.79</td>\n",
       "      <td id=\"T_d1564_row4_col6\" class=\"data row4 col6\" >0.21</td>\n",
       "      <td id=\"T_d1564_row4_col7\" class=\"data row4 col7\" >0.23</td>\n",
       "      <td id=\"T_d1564_row4_col8\" class=\"data row4 col8\" >-0.27</td>\n",
       "      <td id=\"T_d1564_row4_col9\" class=\"data row4 col9\" >0.19</td>\n",
       "      <td id=\"T_d1564_row4_col10\" class=\"data row4 col10\" >-0.30</td>\n",
       "      <td id=\"T_d1564_row4_col11\" class=\"data row4 col11\" >-0.32</td>\n",
       "      <td id=\"T_d1564_row4_col12\" class=\"data row4 col12\" >0.22</td>\n",
       "      <td id=\"T_d1564_row4_col13\" class=\"data row4 col13\" >-0.29</td>\n",
       "    </tr>\n",
       "    <tr>\n",
       "      <th id=\"T_d1564_level0_row5\" class=\"row_heading level0 row5\" >blood_gluc_random</th>\n",
       "      <td id=\"T_d1564_row5_col0\" class=\"data row5 col0\" >0.28</td>\n",
       "      <td id=\"T_d1564_row5_col1\" class=\"data row5 col1\" >0.21</td>\n",
       "      <td id=\"T_d1564_row5_col2\" class=\"data row5 col2\" >-0.46</td>\n",
       "      <td id=\"T_d1564_row5_col3\" class=\"data row5 col3\" >0.44</td>\n",
       "      <td id=\"T_d1564_row5_col4\" class=\"data row5 col4\" >0.79</td>\n",
       "      <td id=\"T_d1564_row5_col5\" class=\"data row5 col5\" >1.00</td>\n",
       "      <td id=\"T_d1564_row5_col6\" class=\"data row5 col6\" >0.24</td>\n",
       "      <td id=\"T_d1564_row5_col7\" class=\"data row5 col7\" >0.22</td>\n",
       "      <td id=\"T_d1564_row5_col8\" class=\"data row5 col8\" >-0.31</td>\n",
       "      <td id=\"T_d1564_row5_col9\" class=\"data row5 col9\" >0.06</td>\n",
       "      <td id=\"T_d1564_row5_col10\" class=\"data row5 col10\" >-0.35</td>\n",
       "      <td id=\"T_d1564_row5_col11\" class=\"data row5 col11\" >-0.36</td>\n",
       "      <td id=\"T_d1564_row5_col12\" class=\"data row5 col12\" >0.21</td>\n",
       "      <td id=\"T_d1564_row5_col13\" class=\"data row5 col13\" >-0.32</td>\n",
       "    </tr>\n",
       "    <tr>\n",
       "      <th id=\"T_d1564_level0_row6\" class=\"row_heading level0 row6\" >blood_urea</th>\n",
       "      <td id=\"T_d1564_row6_col0\" class=\"data row6 col0\" >0.16</td>\n",
       "      <td id=\"T_d1564_row6_col1\" class=\"data row6 col1\" >0.26</td>\n",
       "      <td id=\"T_d1564_row6_col2\" class=\"data row6 col2\" >-0.48</td>\n",
       "      <td id=\"T_d1564_row6_col3\" class=\"data row6 col3\" >0.60</td>\n",
       "      <td id=\"T_d1564_row6_col4\" class=\"data row6 col4\" >0.21</td>\n",
       "      <td id=\"T_d1564_row6_col5\" class=\"data row6 col5\" >0.24</td>\n",
       "      <td id=\"T_d1564_row6_col6\" class=\"data row6 col6\" >1.00</td>\n",
       "      <td id=\"T_d1564_row6_col7\" class=\"data row6 col7\" >0.86</td>\n",
       "      <td id=\"T_d1564_row6_col8\" class=\"data row6 col8\" >-0.48</td>\n",
       "      <td id=\"T_d1564_row6_col9\" class=\"data row6 col9\" >0.22</td>\n",
       "      <td id=\"T_d1564_row6_col10\" class=\"data row6 col10\" >-0.67</td>\n",
       "      <td id=\"T_d1564_row6_col11\" class=\"data row6 col11\" >-0.65</td>\n",
       "      <td id=\"T_d1564_row6_col12\" class=\"data row6 col12\" >0.09</td>\n",
       "      <td id=\"T_d1564_row6_col13\" class=\"data row6 col13\" >-0.59</td>\n",
       "    </tr>\n",
       "    <tr>\n",
       "      <th id=\"T_d1564_level0_row7\" class=\"row_heading level0 row7\" >serum_creatinine</th>\n",
       "      <td id=\"T_d1564_row7_col0\" class=\"data row7 col0\" >0.16</td>\n",
       "      <td id=\"T_d1564_row7_col1\" class=\"data row7 col1\" >0.34</td>\n",
       "      <td id=\"T_d1564_row7_col2\" class=\"data row7 col2\" >-0.51</td>\n",
       "      <td id=\"T_d1564_row7_col3\" class=\"data row7 col3\" >0.63</td>\n",
       "      <td id=\"T_d1564_row7_col4\" class=\"data row7 col4\" >0.23</td>\n",
       "      <td id=\"T_d1564_row7_col5\" class=\"data row7 col5\" >0.22</td>\n",
       "      <td id=\"T_d1564_row7_col6\" class=\"data row7 col6\" >0.86</td>\n",
       "      <td id=\"T_d1564_row7_col7\" class=\"data row7 col7\" >1.00</td>\n",
       "      <td id=\"T_d1564_row7_col8\" class=\"data row7 col8\" >-0.49</td>\n",
       "      <td id=\"T_d1564_row7_col9\" class=\"data row7 col9\" >0.13</td>\n",
       "      <td id=\"T_d1564_row7_col10\" class=\"data row7 col10\" >-0.66</td>\n",
       "      <td id=\"T_d1564_row7_col11\" class=\"data row7 col11\" >-0.66</td>\n",
       "      <td id=\"T_d1564_row7_col12\" class=\"data row7 col12\" >0.08</td>\n",
       "      <td id=\"T_d1564_row7_col13\" class=\"data row7 col13\" >-0.59</td>\n",
       "    </tr>\n",
       "    <tr>\n",
       "      <th id=\"T_d1564_level0_row8\" class=\"row_heading level0 row8\" >sodium</th>\n",
       "      <td id=\"T_d1564_row8_col0\" class=\"data row8 col0\" >-0.13</td>\n",
       "      <td id=\"T_d1564_row8_col1\" class=\"data row8 col1\" >-0.20</td>\n",
       "      <td id=\"T_d1564_row8_col2\" class=\"data row8 col2\" >0.51</td>\n",
       "      <td id=\"T_d1564_row8_col3\" class=\"data row8 col3\" >-0.56</td>\n",
       "      <td id=\"T_d1564_row8_col4\" class=\"data row8 col4\" >-0.27</td>\n",
       "      <td id=\"T_d1564_row8_col5\" class=\"data row8 col5\" >-0.31</td>\n",
       "      <td id=\"T_d1564_row8_col6\" class=\"data row8 col6\" >-0.48</td>\n",
       "      <td id=\"T_d1564_row8_col7\" class=\"data row8 col7\" >-0.49</td>\n",
       "      <td id=\"T_d1564_row8_col8\" class=\"data row8 col8\" >1.00</td>\n",
       "      <td id=\"T_d1564_row8_col9\" class=\"data row8 col9\" >-0.05</td>\n",
       "      <td id=\"T_d1564_row8_col10\" class=\"data row8 col10\" >0.54</td>\n",
       "      <td id=\"T_d1564_row8_col11\" class=\"data row8 col11\" >0.54</td>\n",
       "      <td id=\"T_d1564_row8_col12\" class=\"data row8 col12\" >-0.18</td>\n",
       "      <td id=\"T_d1564_row8_col13\" class=\"data row8 col13\" >0.44</td>\n",
       "    </tr>\n",
       "    <tr>\n",
       "      <th id=\"T_d1564_level0_row9\" class=\"row_heading level0 row9\" >potassium</th>\n",
       "      <td id=\"T_d1564_row9_col0\" class=\"data row9 col0\" >0.00</td>\n",
       "      <td id=\"T_d1564_row9_col1\" class=\"data row9 col1\" >0.09</td>\n",
       "      <td id=\"T_d1564_row9_col2\" class=\"data row9 col2\" >-0.05</td>\n",
       "      <td id=\"T_d1564_row9_col3\" class=\"data row9 col3\" >0.19</td>\n",
       "      <td id=\"T_d1564_row9_col4\" class=\"data row9 col4\" >0.19</td>\n",
       "      <td id=\"T_d1564_row9_col5\" class=\"data row9 col5\" >0.06</td>\n",
       "      <td id=\"T_d1564_row9_col6\" class=\"data row9 col6\" >0.22</td>\n",
       "      <td id=\"T_d1564_row9_col7\" class=\"data row9 col7\" >0.13</td>\n",
       "      <td id=\"T_d1564_row9_col8\" class=\"data row9 col8\" >-0.05</td>\n",
       "      <td id=\"T_d1564_row9_col9\" class=\"data row9 col9\" >1.00</td>\n",
       "      <td id=\"T_d1564_row9_col10\" class=\"data row9 col10\" >-0.16</td>\n",
       "      <td id=\"T_d1564_row9_col11\" class=\"data row9 col11\" >-0.19</td>\n",
       "      <td id=\"T_d1564_row9_col12\" class=\"data row9 col12\" >-0.10</td>\n",
       "      <td id=\"T_d1564_row9_col13\" class=\"data row9 col13\" >-0.18</td>\n",
       "    </tr>\n",
       "    <tr>\n",
       "      <th id=\"T_d1564_level0_row10\" class=\"row_heading level0 row10\" >hemoglobin</th>\n",
       "      <td id=\"T_d1564_row10_col0\" class=\"data row10 col0\" >-0.24</td>\n",
       "      <td id=\"T_d1564_row10_col1\" class=\"data row10 col1\" >-0.30</td>\n",
       "      <td id=\"T_d1564_row10_col2\" class=\"data row10 col2\" >0.68</td>\n",
       "      <td id=\"T_d1564_row10_col3\" class=\"data row10 col3\" >-0.71</td>\n",
       "      <td id=\"T_d1564_row10_col4\" class=\"data row10 col4\" >-0.30</td>\n",
       "      <td id=\"T_d1564_row10_col5\" class=\"data row10 col5\" >-0.35</td>\n",
       "      <td id=\"T_d1564_row10_col6\" class=\"data row10 col6\" >-0.67</td>\n",
       "      <td id=\"T_d1564_row10_col7\" class=\"data row10 col7\" >-0.66</td>\n",
       "      <td id=\"T_d1564_row10_col8\" class=\"data row10 col8\" >0.54</td>\n",
       "      <td id=\"T_d1564_row10_col9\" class=\"data row10 col9\" >-0.16</td>\n",
       "      <td id=\"T_d1564_row10_col10\" class=\"data row10 col10\" >1.00</td>\n",
       "      <td id=\"T_d1564_row10_col11\" class=\"data row10 col11\" >0.87</td>\n",
       "      <td id=\"T_d1564_row10_col12\" class=\"data row10 col12\" >-0.30</td>\n",
       "      <td id=\"T_d1564_row10_col13\" class=\"data row10 col13\" >0.77</td>\n",
       "    </tr>\n",
       "    <tr>\n",
       "      <th id=\"T_d1564_level0_row11\" class=\"row_heading level0 row11\" >packed_cell_vol</th>\n",
       "      <td id=\"T_d1564_row11_col0\" class=\"data row11 col0\" >-0.25</td>\n",
       "      <td id=\"T_d1564_row11_col1\" class=\"data row11 col1\" >-0.33</td>\n",
       "      <td id=\"T_d1564_row11_col2\" class=\"data row11 col2\" >0.67</td>\n",
       "      <td id=\"T_d1564_row11_col3\" class=\"data row11 col3\" >-0.69</td>\n",
       "      <td id=\"T_d1564_row11_col4\" class=\"data row11 col4\" >-0.32</td>\n",
       "      <td id=\"T_d1564_row11_col5\" class=\"data row11 col5\" >-0.36</td>\n",
       "      <td id=\"T_d1564_row11_col6\" class=\"data row11 col6\" >-0.65</td>\n",
       "      <td id=\"T_d1564_row11_col7\" class=\"data row11 col7\" >-0.66</td>\n",
       "      <td id=\"T_d1564_row11_col8\" class=\"data row11 col8\" >0.54</td>\n",
       "      <td id=\"T_d1564_row11_col9\" class=\"data row11 col9\" >-0.19</td>\n",
       "      <td id=\"T_d1564_row11_col10\" class=\"data row11 col10\" >0.87</td>\n",
       "      <td id=\"T_d1564_row11_col11\" class=\"data row11 col11\" >1.00</td>\n",
       "      <td id=\"T_d1564_row11_col12\" class=\"data row11 col12\" >-0.30</td>\n",
       "      <td id=\"T_d1564_row11_col13\" class=\"data row11 col13\" >0.77</td>\n",
       "    </tr>\n",
       "    <tr>\n",
       "      <th id=\"T_d1564_level0_row12\" class=\"row_heading level0 row12\" >white_cell_count</th>\n",
       "      <td id=\"T_d1564_row12_col0\" class=\"data row12 col0\" >0.17</td>\n",
       "      <td id=\"T_d1564_row12_col1\" class=\"data row12 col1\" >0.08</td>\n",
       "      <td id=\"T_d1564_row12_col2\" class=\"data row12 col2\" >-0.27</td>\n",
       "      <td id=\"T_d1564_row12_col3\" class=\"data row12 col3\" >0.26</td>\n",
       "      <td id=\"T_d1564_row12_col4\" class=\"data row12 col4\" >0.22</td>\n",
       "      <td id=\"T_d1564_row12_col5\" class=\"data row12 col5\" >0.21</td>\n",
       "      <td id=\"T_d1564_row12_col6\" class=\"data row12 col6\" >0.09</td>\n",
       "      <td id=\"T_d1564_row12_col7\" class=\"data row12 col7\" >0.08</td>\n",
       "      <td id=\"T_d1564_row12_col8\" class=\"data row12 col8\" >-0.18</td>\n",
       "      <td id=\"T_d1564_row12_col9\" class=\"data row12 col9\" >-0.10</td>\n",
       "      <td id=\"T_d1564_row12_col10\" class=\"data row12 col10\" >-0.30</td>\n",
       "      <td id=\"T_d1564_row12_col11\" class=\"data row12 col11\" >-0.30</td>\n",
       "      <td id=\"T_d1564_row12_col12\" class=\"data row12 col12\" >1.00</td>\n",
       "      <td id=\"T_d1564_row12_col13\" class=\"data row12 col13\" >-0.23</td>\n",
       "    </tr>\n",
       "    <tr>\n",
       "      <th id=\"T_d1564_level0_row13\" class=\"row_heading level0 row13\" >red_cell_count</th>\n",
       "      <td id=\"T_d1564_row13_col0\" class=\"data row13 col0\" >-0.24</td>\n",
       "      <td id=\"T_d1564_row13_col1\" class=\"data row13 col1\" >-0.24</td>\n",
       "      <td id=\"T_d1564_row13_col2\" class=\"data row13 col2\" >0.61</td>\n",
       "      <td id=\"T_d1564_row13_col3\" class=\"data row13 col3\" >-0.59</td>\n",
       "      <td id=\"T_d1564_row13_col4\" class=\"data row13 col4\" >-0.29</td>\n",
       "      <td id=\"T_d1564_row13_col5\" class=\"data row13 col5\" >-0.32</td>\n",
       "      <td id=\"T_d1564_row13_col6\" class=\"data row13 col6\" >-0.59</td>\n",
       "      <td id=\"T_d1564_row13_col7\" class=\"data row13 col7\" >-0.59</td>\n",
       "      <td id=\"T_d1564_row13_col8\" class=\"data row13 col8\" >0.44</td>\n",
       "      <td id=\"T_d1564_row13_col9\" class=\"data row13 col9\" >-0.18</td>\n",
       "      <td id=\"T_d1564_row13_col10\" class=\"data row13 col10\" >0.77</td>\n",
       "      <td id=\"T_d1564_row13_col11\" class=\"data row13 col11\" >0.77</td>\n",
       "      <td id=\"T_d1564_row13_col12\" class=\"data row13 col12\" >-0.23</td>\n",
       "      <td id=\"T_d1564_row13_col13\" class=\"data row13 col13\" >1.00</td>\n",
       "    </tr>\n",
       "  </tbody>\n",
       "</table>\n"
      ],
      "text/plain": [
       "<pandas.io.formats.style.Styler at 0x15adee7eb50>"
      ]
     },
     "execution_count": 8,
     "metadata": {},
     "output_type": "execute_result"
    }
   ],
   "source": [
    "# Take subset of continuous variables only\n",
    "df_cont_vars = df.copy()\n",
    "continuous_vars = df_cont_vars.select_dtypes(include=['float64']).columns\n",
    "df_cont_vars = df_cont_vars[continuous_vars]\n",
    "\n",
    "# Drop nan values\n",
    "df_cont_vars.dropna(inplace=True)\n",
    "\n",
    "# Plot correlation matrix\n",
    "corr = df_cont_vars.corr()\n",
    "corr.style.background_gradient(cmap='coolwarm').format(precision=2)"
   ]
  },
  {
   "cell_type": "markdown",
   "metadata": {},
   "source": [
    "This plot, shows the highest positive correlation is between sugar (su) and blood glucose random (bgr). This intuitively makes sense since those are biologically correlated processes. The greatest negative correlation is between hemoglobin and albumin, which is also known to be negatively correlated.\n",
    "* Due to the high correlation shown between sugar and blood glucose random, there may be some redundancy between the two variables. Keeping both variables may unnecessarily increase dimensionality (although they're not too highly correlated so it's likely best to leave both variables in)\n",
    "* Any highly correlated values could undergo dimensionality reduction via techniques like PCA as they will be redundant when calculating the principal components.\n",
    "* Having variables that are both highly positively and negatively correlated means that classification is likely possible since there are large differences between variables in the dataset."
   ]
  },
  {
   "cell_type": "markdown",
   "metadata": {},
   "source": [
    "### Question 5 - Missing Value Analysis \n",
    "To handle missing values, we can either drop all rows with missing values (nans) or somehow interpolate the values with missing values. First we can check to see how many rows would be dropped if all nans were dropped."
   ]
  },
  {
   "cell_type": "code",
   "execution_count": 9,
   "metadata": {},
   "outputs": [
    {
     "name": "stdout",
     "output_type": "stream",
     "text": [
      "242 rows would be dropped due to nan values\n"
     ]
    }
   ],
   "source": [
    "print(400-df.dropna().shape[0], 'rows would be dropped due to nan values')"
   ]
  },
  {
   "cell_type": "markdown",
   "metadata": {},
   "source": [
    "Since so many rows would be dropped due to nan values, it is better to impute the values. This can be done with a univariate, multivariate, or nearest neighbours imputation (via scikit-learn, https://scikit-learn.org/stable/modules/impute.html). Since we are most familiar with KNN which was studied during this course, we will use that to impute the data. Note that the data needs to be scaled since KNN calculates the Eucledian distance."
   ]
  },
  {
   "cell_type": "code",
   "execution_count": 10,
   "metadata": {},
   "outputs": [
    {
     "data": {
      "text/plain": [
       "age                         0\n",
       "blood_pressure              0\n",
       "specific_gravity            0\n",
       "albumin                     0\n",
       "sugar                       0\n",
       "red_blood_cells           152\n",
       "pus_cells                  65\n",
       "pus_cell_clumps             4\n",
       "bacteria                    4\n",
       "blood_gluc_random           0\n",
       "blood_urea                  0\n",
       "serum_creatinine            0\n",
       "sodium                      0\n",
       "potassium                   0\n",
       "hemoglobin                  0\n",
       "packed_cell_vol             0\n",
       "white_cell_count            0\n",
       "red_cell_count              0\n",
       "hypertension                2\n",
       "diabetes_mel                2\n",
       "coronary_heart_disease      2\n",
       "appetite                    1\n",
       "pedal_enema                 1\n",
       "anemia                      1\n",
       "class                       0\n",
       "dtype: int64"
      ]
     },
     "execution_count": 10,
     "metadata": {},
     "output_type": "execute_result"
    }
   ],
   "source": [
    "# Take subset of continuous variables only\n",
    "df_cont_vars = df.copy()\n",
    "continuous_vars = df_cont_vars.select_dtypes(include=['float64']).columns\n",
    "df_cont_vars = df_cont_vars[continuous_vars]\n",
    "\n",
    "# Scaling data\n",
    "scaler = MinMaxScaler()\n",
    "df_scaled = pd.DataFrame(scaler.fit_transform(df_cont_vars), columns=df_cont_vars.columns)\n",
    "\n",
    "# Imputing data\n",
    "impute = KNNImputer(n_neighbors=8)  # n=8 picked because this improved imputing distribution \n",
    "df_imputed = pd.DataFrame(impute.fit_transform(df_scaled), columns=df_scaled.columns)\n",
    "df_imputed.isnull().sum()\n",
    "\n",
    "df_final = df.copy()\n",
    "df_final.update(df_imputed)\n",
    "df_final.isnull().sum()"
   ]
  },
  {
   "cell_type": "markdown",
   "metadata": {},
   "source": [
    "So, there are no null values in the continuous value columns since the data was imputed, and this can be used instead of the original dataset."
   ]
  },
  {
   "cell_type": "markdown",
   "metadata": {},
   "source": [
    "### Question 6 - Outlier Analysis\n",
    "We can look at the outliers with a boxplot of the continuous variables. "
   ]
  },
  {
   "cell_type": "code",
   "execution_count": 11,
   "metadata": {},
   "outputs": [
    {
     "data": {
      "image/png": "[encoded data removed]",
      "text/plain": [
       "<Figure size 640x480 with 1 Axes>"
      ]
     },
     "metadata": {},
     "output_type": "display_data"
    }
   ],
   "source": [
    "plt.boxplot(df_imputed)\n",
    "plt.xticks(range(1, len(df_imputed.columns) + 1), df_imputed.columns, rotation=90)\n",
    "plt.show()"
   ]
  },
  {
   "cell_type": "markdown",
   "metadata": {},
   "source": [
    "For now we will ignore the outliers in case they are important to the overall analysis. There may be some important data captured in the outliers, and removing all outliers indiscriminantly may impact the clustering accuracy.\n",
    "\n",
    "One option in the future is to remove all data points that lie outside a certain quartile range."
   ]
  },
  {
   "cell_type": "markdown",
   "metadata": {},
   "source": [
    "### Question 7 - Sub Group Analysis\n",
    "\n",
    "To consider the sub groups, we can look at the distribution of patients values in different columns. We expect a normal distribution, but if there are multiple peaks that may indicate the existence of subgroups"
   ]
  },
  {
   "cell_type": "code",
   "execution_count": 12,
   "metadata": {},
   "outputs": [
    {
     "data": {
      "image/png": "[encoded data removed]",
      "text/plain": [
       "<Figure size 640x480 with 1 Axes>"
      ]
     },
     "metadata": {},
     "output_type": "display_data"
    },
    {
     "data": {
      "image/png": "[encoded data removed]",
      "text/plain": [
       "<Figure size 640x480 with 1 Axes>"
      ]
     },
     "metadata": {},
     "output_type": "display_data"
    },
    {
     "data": {
      "image/png": "[encoded data removed]",
      "text/plain": [
       "<Figure size 640x480 with 1 Axes>"
      ]
     },
     "metadata": {},
     "output_type": "display_data"
    },
    {
     "data": {
      "image/png": "[encoded data removed]",
      "text/plain": [
       "<Figure size 640x480 with 1 Axes>"
      ]
     },
     "metadata": {},
     "output_type": "display_data"
    },
    {
     "data": {
      "image/png": "[encoded data removed]",
      "text/plain": [
       "<Figure size 640x480 with 1 Axes>"
      ]
     },
     "metadata": {},
     "output_type": "display_data"
    },
    {
     "data": {
      "image/png": "[encoded data removed]",
      "text/plain": [
       "<Figure size 640x480 with 1 Axes>"
      ]
     },
     "metadata": {},
     "output_type": "display_data"
    },
    {
     "data": {
      "image/png": "[encoded data removed]",
      "text/plain": [
       "<Figure size 640x480 with 1 Axes>"
      ]
     },
     "metadata": {},
     "output_type": "display_data"
    },
    {
     "data": {
      "image/png": "[encoded data removed]",
      "text/plain": [
       "<Figure size 640x480 with 1 Axes>"
      ]
     },
     "metadata": {},
     "output_type": "display_data"
    },
    {
     "data": {
      "image/png": "[encoded data removed]",
      "text/plain": [
       "<Figure size 640x480 with 1 Axes>"
      ]
     },
     "metadata": {},
     "output_type": "display_data"
    },
    {
     "data": {
      "image/png": "[encoded data removed]",
      "text/plain": [
       "<Figure size 640x480 with 1 Axes>"
      ]
     },
     "metadata": {},
     "output_type": "display_data"
    },
    {
     "data": {
      "image/png": "[encoded data removed]",
      "text/plain": [
       "<Figure size 640x480 with 1 Axes>"
      ]
     },
     "metadata": {},
     "output_type": "display_data"
    },
    {
     "data": {
      "image/png": "[encoded data removed]",
      "text/plain": [
       "<Figure size 640x480 with 1 Axes>"
      ]
     },
     "metadata": {},
     "output_type": "display_data"
    },
    {
     "data": {
      "image/png": "[encoded data removed]",
      "text/plain": [
       "<Figure size 640x480 with 1 Axes>"
      ]
     },
     "metadata": {},
     "output_type": "display_data"
    },
    {
     "data": {
      "image/png": "[encoded data removed]",
      "text/plain": [
       "<Figure size 640x480 with 1 Axes>"
      ]
     },
     "metadata": {},
     "output_type": "display_data"
    }
   ],
   "source": [
    "for col in continuous_vars:\n",
    "    plt.hist(df_final[col], bins=15)\n",
    "    plt.title('Distribution of '+ col+ ' Variable')\n",
    "    plt.show()"
   ]
  },
  {
   "cell_type": "markdown",
   "metadata": {},
   "source": [
    "From this set of plots, we see that the variables: age, blood pressure, blood glucose (random), blood urea, hemoglobin,  packed cell volume, white cell count, and red cell count follow a somewhat normal distribution. \n",
    "\n",
    "However, the other variables show some evident subgroups. For example, the sugar variable shows a few distinct bins. This is because the values are not continuous. Instead, patients are sorted into 5 groups (numbered 1,2,3,4,5 prior to scaling) that rank their sugar levels. We see similar behaviour with the variable albumin and specific gravity"
   ]
  },
  {
   "cell_type": "code",
   "execution_count": 13,
   "metadata": {},
   "outputs": [
    {
     "data": {
      "text/plain": [
       "array([ 0.,  3.,  4.,  1., nan,  2.,  5.])"
      ]
     },
     "execution_count": 13,
     "metadata": {},
     "output_type": "execute_result"
    }
   ],
   "source": [
    "df['sugar'].unique()"
   ]
  },
  {
   "cell_type": "code",
   "execution_count": 14,
   "metadata": {},
   "outputs": [
    {
     "data": {
      "text/plain": [
       "array([ 1.,  4.,  2.,  3.,  0., nan,  5.])"
      ]
     },
     "execution_count": 14,
     "metadata": {},
     "output_type": "execute_result"
    }
   ],
   "source": [
    "df['albumin'].unique()"
   ]
  },
  {
   "cell_type": "code",
   "execution_count": 15,
   "metadata": {},
   "outputs": [
    {
     "data": {
      "text/plain": [
       "array([1.02 , 1.01 , 1.005, 1.015,   nan, 1.025])"
      ]
     },
     "execution_count": 15,
     "metadata": {},
     "output_type": "execute_result"
    }
   ],
   "source": [
    "df['specific_gravity'].unique()\n"
   ]
  },
  {
   "cell_type": "markdown",
   "metadata": {},
   "source": [
    "### Question 8 - Data Splitting"
   ]
  },
  {
   "cell_type": "code",
   "execution_count": 16,
   "metadata": {},
   "outputs": [],
   "source": [
    "# Assigning predictors and response variables\n",
    "pred_vars = df_final.columns.tolist()[:-1]\n",
    "resp_var = ['class']\n",
    "x = df_final[pred_vars]\n",
    "y = df_final[resp_var]\n",
    "\n",
    "# Splitting into 70%/30% training/test split with stratified random sampling and seed=1\n",
    "x_train, x_test, y_train, y_test = train_test_split(\n",
    "    x, \n",
    "    y,\n",
    "    test_size=0.3, \n",
    "    random_state=1, \n",
    "    stratify=y\n",
    "    )"
   ]
  },
  {
   "cell_type": "markdown",
   "metadata": {},
   "source": [
    "### Question 9 - Classifier Choices\n",
    "**KNN Classification**\n",
    "The first classifier chosen is K-Nearest Neighbours. This is because the KNN classifier is a good, simple way to understand the relationship between different variables. However, since the outliers have not been removed, it's possible KNN will not perform well. \n",
    "\n",
    "**Decision Trees**\n",
    "Since there are many dimensions to this data (25!), a decision tree classifier is a good option to battle the curse of dimensionality.\n",
    "\n",
    "### Question 10 - Performance Metrics\n",
    "For both classifers, we can look at the accuracy measure to determine which performs better. For KNN classification, the accuracy can be optimized relative to the number of neighbours. For decision trees, we can optimize based on depth. "
   ]
  },
  {
   "cell_type": "markdown",
   "metadata": {},
   "source": [
    "#### KNN Implementation\n",
    "Before using KNN, the categorical variables (with string labels) need to be converted to numerical values. And all nan values will have to be dropped."
   ]
  },
  {
   "cell_type": "code",
   "execution_count": 17,
   "metadata": {},
   "outputs": [
    {
     "name": "stdout",
     "output_type": "stream",
     "text": [
      "red_blood_cells\n"
     ]
    },
    {
     "data": {
      "text/plain": [
       "array([nan, 'normal', 'abnormal'], dtype=object)"
      ]
     },
     "metadata": {},
     "output_type": "display_data"
    },
    {
     "name": "stdout",
     "output_type": "stream",
     "text": [
      "pus_cells\n"
     ]
    },
    {
     "data": {
      "text/plain": [
       "array(['normal', 'abnormal', nan], dtype=object)"
      ]
     },
     "metadata": {},
     "output_type": "display_data"
    },
    {
     "name": "stdout",
     "output_type": "stream",
     "text": [
      "pus_cell_clumps\n"
     ]
    },
    {
     "data": {
      "text/plain": [
       "array(['notpresent', 'present', nan], dtype=object)"
      ]
     },
     "metadata": {},
     "output_type": "display_data"
    },
    {
     "name": "stdout",
     "output_type": "stream",
     "text": [
      "bacteria\n"
     ]
    },
    {
     "data": {
      "text/plain": [
       "array(['notpresent', 'present', nan], dtype=object)"
      ]
     },
     "metadata": {},
     "output_type": "display_data"
    },
    {
     "name": "stdout",
     "output_type": "stream",
     "text": [
      "hypertension\n"
     ]
    },
    {
     "data": {
      "text/plain": [
       "array(['yes', 'no', nan], dtype=object)"
      ]
     },
     "metadata": {},
     "output_type": "display_data"
    },
    {
     "name": "stdout",
     "output_type": "stream",
     "text": [
      "diabetes_mel\n"
     ]
    },
    {
     "data": {
      "text/plain": [
       "array(['yes', 'no', nan], dtype=object)"
      ]
     },
     "metadata": {},
     "output_type": "display_data"
    },
    {
     "name": "stdout",
     "output_type": "stream",
     "text": [
      "coronary_heart_disease\n"
     ]
    },
    {
     "data": {
      "text/plain": [
       "array(['no', 'yes', nan], dtype=object)"
      ]
     },
     "metadata": {},
     "output_type": "display_data"
    },
    {
     "name": "stdout",
     "output_type": "stream",
     "text": [
      "appetite\n"
     ]
    },
    {
     "data": {
      "text/plain": [
       "array(['good', 'poor', nan], dtype=object)"
      ]
     },
     "metadata": {},
     "output_type": "display_data"
    },
    {
     "name": "stdout",
     "output_type": "stream",
     "text": [
      "pedal_enema\n"
     ]
    },
    {
     "data": {
      "text/plain": [
       "array(['no', 'yes', nan], dtype=object)"
      ]
     },
     "metadata": {},
     "output_type": "display_data"
    },
    {
     "name": "stdout",
     "output_type": "stream",
     "text": [
      "anemia\n"
     ]
    },
    {
     "data": {
      "text/plain": [
       "array(['no', 'yes', nan], dtype=object)"
      ]
     },
     "metadata": {},
     "output_type": "display_data"
    },
    {
     "name": "stdout",
     "output_type": "stream",
     "text": [
      "class\n"
     ]
    },
    {
     "data": {
      "text/plain": [
       "array(['ckd', 'notckd'], dtype=object)"
      ]
     },
     "metadata": {},
     "output_type": "display_data"
    }
   ],
   "source": [
    "obj_vars = df_final.select_dtypes(include=['object']).columns\n",
    "for col in obj_vars:\n",
    "    print(col)\n",
    "    display(df_final[col].unique())"
   ]
  },
  {
   "cell_type": "markdown",
   "metadata": {},
   "source": [
    "We can map these values to numbers and update the dataframe as follows."
   ]
  },
  {
   "cell_type": "code",
   "execution_count": 18,
   "metadata": {},
   "outputs": [
    {
     "data": {
      "text/html": [
       "<div>\n",
       "<style scoped>\n",
       "    .dataframe tbody tr th:only-of-type {\n",
       "        vertical-align: middle;\n",
       "    }\n",
       "\n",
       "    .dataframe tbody tr th {\n",
       "        vertical-align: top;\n",
       "    }\n",
       "\n",
       "    .dataframe thead th {\n",
       "        text-align: right;\n",
       "    }\n",
       "</style>\n",
       "<table border=\"1\" class=\"dataframe\">\n",
       "  <thead>\n",
       "    <tr style=\"text-align: right;\">\n",
       "      <th></th>\n",
       "      <th>red_blood_cells</th>\n",
       "      <th>pus_cells</th>\n",
       "      <th>pus_cell_clumps</th>\n",
       "      <th>bacteria</th>\n",
       "      <th>hypertension</th>\n",
       "      <th>diabetes_mel</th>\n",
       "      <th>coronary_heart_disease</th>\n",
       "      <th>appetite</th>\n",
       "      <th>pedal_enema</th>\n",
       "      <th>anemia</th>\n",
       "      <th>class</th>\n",
       "    </tr>\n",
       "  </thead>\n",
       "  <tbody>\n",
       "    <tr>\n",
       "      <th>2</th>\n",
       "      <td>0.0</td>\n",
       "      <td>0.0</td>\n",
       "      <td>0.0</td>\n",
       "      <td>0.0</td>\n",
       "      <td>0.0</td>\n",
       "      <td>1.0</td>\n",
       "      <td>0.0</td>\n",
       "      <td>1.0</td>\n",
       "      <td>0.0</td>\n",
       "      <td>1.0</td>\n",
       "      <td>1</td>\n",
       "    </tr>\n",
       "    <tr>\n",
       "      <th>3</th>\n",
       "      <td>0.0</td>\n",
       "      <td>1.0</td>\n",
       "      <td>1.0</td>\n",
       "      <td>0.0</td>\n",
       "      <td>1.0</td>\n",
       "      <td>0.0</td>\n",
       "      <td>0.0</td>\n",
       "      <td>1.0</td>\n",
       "      <td>1.0</td>\n",
       "      <td>1.0</td>\n",
       "      <td>1</td>\n",
       "    </tr>\n",
       "    <tr>\n",
       "      <th>4</th>\n",
       "      <td>0.0</td>\n",
       "      <td>0.0</td>\n",
       "      <td>0.0</td>\n",
       "      <td>0.0</td>\n",
       "      <td>0.0</td>\n",
       "      <td>0.0</td>\n",
       "      <td>0.0</td>\n",
       "      <td>0.0</td>\n",
       "      <td>0.0</td>\n",
       "      <td>0.0</td>\n",
       "      <td>1</td>\n",
       "    </tr>\n",
       "    <tr>\n",
       "      <th>7</th>\n",
       "      <td>0.0</td>\n",
       "      <td>1.0</td>\n",
       "      <td>0.0</td>\n",
       "      <td>0.0</td>\n",
       "      <td>0.0</td>\n",
       "      <td>1.0</td>\n",
       "      <td>0.0</td>\n",
       "      <td>0.0</td>\n",
       "      <td>1.0</td>\n",
       "      <td>0.0</td>\n",
       "      <td>1</td>\n",
       "    </tr>\n",
       "    <tr>\n",
       "      <th>8</th>\n",
       "      <td>0.0</td>\n",
       "      <td>1.0</td>\n",
       "      <td>1.0</td>\n",
       "      <td>0.0</td>\n",
       "      <td>1.0</td>\n",
       "      <td>1.0</td>\n",
       "      <td>0.0</td>\n",
       "      <td>0.0</td>\n",
       "      <td>0.0</td>\n",
       "      <td>1.0</td>\n",
       "      <td>1</td>\n",
       "    </tr>\n",
       "    <tr>\n",
       "      <th>...</th>\n",
       "      <td>...</td>\n",
       "      <td>...</td>\n",
       "      <td>...</td>\n",
       "      <td>...</td>\n",
       "      <td>...</td>\n",
       "      <td>...</td>\n",
       "      <td>...</td>\n",
       "      <td>...</td>\n",
       "      <td>...</td>\n",
       "      <td>...</td>\n",
       "      <td>...</td>\n",
       "    </tr>\n",
       "    <tr>\n",
       "      <th>395</th>\n",
       "      <td>0.0</td>\n",
       "      <td>0.0</td>\n",
       "      <td>0.0</td>\n",
       "      <td>0.0</td>\n",
       "      <td>0.0</td>\n",
       "      <td>0.0</td>\n",
       "      <td>0.0</td>\n",
       "      <td>0.0</td>\n",
       "      <td>0.0</td>\n",
       "      <td>0.0</td>\n",
       "      <td>0</td>\n",
       "    </tr>\n",
       "    <tr>\n",
       "      <th>396</th>\n",
       "      <td>0.0</td>\n",
       "      <td>0.0</td>\n",
       "      <td>0.0</td>\n",
       "      <td>0.0</td>\n",
       "      <td>0.0</td>\n",
       "      <td>0.0</td>\n",
       "      <td>0.0</td>\n",
       "      <td>0.0</td>\n",
       "      <td>0.0</td>\n",
       "      <td>0.0</td>\n",
       "      <td>0</td>\n",
       "    </tr>\n",
       "    <tr>\n",
       "      <th>397</th>\n",
       "      <td>0.0</td>\n",
       "      <td>0.0</td>\n",
       "      <td>0.0</td>\n",
       "      <td>0.0</td>\n",
       "      <td>0.0</td>\n",
       "      <td>0.0</td>\n",
       "      <td>0.0</td>\n",
       "      <td>0.0</td>\n",
       "      <td>0.0</td>\n",
       "      <td>0.0</td>\n",
       "      <td>0</td>\n",
       "    </tr>\n",
       "    <tr>\n",
       "      <th>398</th>\n",
       "      <td>0.0</td>\n",
       "      <td>0.0</td>\n",
       "      <td>0.0</td>\n",
       "      <td>0.0</td>\n",
       "      <td>0.0</td>\n",
       "      <td>0.0</td>\n",
       "      <td>0.0</td>\n",
       "      <td>0.0</td>\n",
       "      <td>0.0</td>\n",
       "      <td>0.0</td>\n",
       "      <td>0</td>\n",
       "    </tr>\n",
       "    <tr>\n",
       "      <th>399</th>\n",
       "      <td>0.0</td>\n",
       "      <td>0.0</td>\n",
       "      <td>0.0</td>\n",
       "      <td>0.0</td>\n",
       "      <td>0.0</td>\n",
       "      <td>0.0</td>\n",
       "      <td>0.0</td>\n",
       "      <td>0.0</td>\n",
       "      <td>0.0</td>\n",
       "      <td>0.0</td>\n",
       "      <td>0</td>\n",
       "    </tr>\n",
       "  </tbody>\n",
       "</table>\n",
       "<p>233 rows × 11 columns</p>\n",
       "</div>"
      ],
      "text/plain": [
       "     red_blood_cells  pus_cells  pus_cell_clumps  bacteria  hypertension  \\\n",
       "2                0.0        0.0              0.0       0.0           0.0   \n",
       "3                0.0        1.0              1.0       0.0           1.0   \n",
       "4                0.0        0.0              0.0       0.0           0.0   \n",
       "7                0.0        1.0              0.0       0.0           0.0   \n",
       "8                0.0        1.0              1.0       0.0           1.0   \n",
       "..               ...        ...              ...       ...           ...   \n",
       "395              0.0        0.0              0.0       0.0           0.0   \n",
       "396              0.0        0.0              0.0       0.0           0.0   \n",
       "397              0.0        0.0              0.0       0.0           0.0   \n",
       "398              0.0        0.0              0.0       0.0           0.0   \n",
       "399              0.0        0.0              0.0       0.0           0.0   \n",
       "\n",
       "     diabetes_mel  coronary_heart_disease  appetite  pedal_enema  anemia  \\\n",
       "2             1.0                     0.0       1.0          0.0     1.0   \n",
       "3             0.0                     0.0       1.0          1.0     1.0   \n",
       "4             0.0                     0.0       0.0          0.0     0.0   \n",
       "7             1.0                     0.0       0.0          1.0     0.0   \n",
       "8             1.0                     0.0       0.0          0.0     1.0   \n",
       "..            ...                     ...       ...          ...     ...   \n",
       "395           0.0                     0.0       0.0          0.0     0.0   \n",
       "396           0.0                     0.0       0.0          0.0     0.0   \n",
       "397           0.0                     0.0       0.0          0.0     0.0   \n",
       "398           0.0                     0.0       0.0          0.0     0.0   \n",
       "399           0.0                     0.0       0.0          0.0     0.0   \n",
       "\n",
       "     class  \n",
       "2        1  \n",
       "3        1  \n",
       "4        1  \n",
       "7        1  \n",
       "8        1  \n",
       "..     ...  \n",
       "395      0  \n",
       "396      0  \n",
       "397      0  \n",
       "398      0  \n",
       "399      0  \n",
       "\n",
       "[233 rows x 11 columns]"
      ]
     },
     "execution_count": 18,
     "metadata": {},
     "output_type": "execute_result"
    }
   ],
   "source": [
    "var_map = {'normal': 0, 'abnormal': 1, \n",
    "           'notpresent': 0, 'present': 1, \n",
    "           'no': 0, 'yes': 1, \n",
    "           'good': 0, 'poor': 1, \n",
    "           'notckd': 0, 'ckd': 1, \n",
    "           }\n",
    "df_knn = df_final.copy()\n",
    "df_knn[obj_vars] = df_final[obj_vars].apply(lambda x: x.map(var_map))\n",
    "df_knn.dropna(inplace=True)\n",
    "df_knn[obj_vars]"
   ]
  },
  {
   "cell_type": "markdown",
   "metadata": {},
   "source": [
    "After doing this, we can resplit the training/test data with this updated data and perform the KNN algorithm."
   ]
  },
  {
   "cell_type": "code",
   "execution_count": 19,
   "metadata": {},
   "outputs": [],
   "source": [
    "# Assigning predictors and response variables\n",
    "pred_vars_knn = df_knn.columns.tolist()[:-1]\n",
    "resp_vars_knn = ['class']\n",
    "x_knn = df_knn[pred_vars]\n",
    "y_knn = df_knn[resp_var]\n",
    "\n",
    "# Splitting into 70%/30% training/test split with stratified random sampling and seed=1\n",
    "x_train_knn, x_test_knn, y_train_knn, y_test_knn = train_test_split(\n",
    "    x_knn, \n",
    "    y_knn,\n",
    "    test_size=0.3, \n",
    "    random_state=1, \n",
    "    stratify=y_knn\n",
    "    )"
   ]
  },
  {
   "cell_type": "code",
   "execution_count": 22,
   "metadata": {},
   "outputs": [],
   "source": [
    "# Define the range of K values to explore\n",
    "k_values = range(1, 15)\n",
    "\n",
    "# Initialize lists to store accuracies for different K values\n",
    "train_accuracies = []\n",
    "test_accuracies = []\n",
    "\n",
    "# Loop through each K value\n",
    "for k in k_values:\n",
    "    # Create KNN classifier with current K value\n",
    "    knn_classifier = KNeighborsClassifier(n_neighbors=k)\n",
    "    \n",
    "    # Fit the classifier to the training data\n",
    "    knn_classifier.fit(x_train_knn, y_train_knn)\n",
    "    \n",
    "    # Predict the training and test data labels\n",
    "    train_predictions = knn_classifier.predict(x_train_knn)\n",
    "    test_predictions = knn_classifier.predict(x_test_knn)\n",
    "    \n",
    "    # Calculate accuracy for training and test data\n",
    "    train_accuracy = accuracy_score(y_train_knn, train_predictions)\n",
    "    test_accuracy = accuracy_score(y_test_knn, test_predictions)\n",
    "    \n",
    "    # Append accuracies to the lists\n",
    "    train_accuracies.append(train_accuracy)\n",
    "    test_accuracies.append(test_accuracy)"
   ]
  },
  {
   "cell_type": "code",
   "execution_count": 23,
   "metadata": {},
   "outputs": [
    {
     "data": {
      "image/png": "[encoded data removed]",
      "text/plain": [
       "<Figure size 640x480 with 1 Axes>"
      ]
     },
     "metadata": {},
     "output_type": "display_data"
    }
   ],
   "source": [
    "# Plot the accuracies for different K values\n",
    "plt.plot(k_values, train_accuracies, label='Training Accuracy')\n",
    "plt.plot(k_values, test_accuracies, label='Test Accuracy')\n",
    "plt.title('KNN Accuracy for Different K Values')\n",
    "plt.xlabel('K Value')\n",
    "plt.ylabel('Accuracy')\n",
    "plt.xticks(k_values)\n",
    "plt.legend()\n",
    "plt.grid(True)\n",
    "plt.show()"
   ]
  },
  {
   "cell_type": "markdown",
   "metadata": {},
   "source": [
    "From these results, it sppears that k values of 1 leads to the best result. This k value has a training and test accuracy of 100% and 99% respectively. However, due to the size of the dataset, it is possible that this is a result of overfitting to this dataset. And for new data, it is likely better to use a value of a higher k value. To avoid overfitting, we could use a larger k value which has a high accuracy but it is more likely that new data will still be accurate as the model is not overfit.\n",
    "\n",
    "Supposing we had more data, we might be able to find an optimal k value. For the purpose of this assignment, I will continue with k=5."
   ]
  },
  {
   "cell_type": "code",
   "execution_count": 26,
   "metadata": {},
   "outputs": [
    {
     "name": "stdout",
     "output_type": "stream",
     "text": [
      "Accuracy score of k=5 is:  0.9428571428571428\n"
     ]
    },
    {
     "data": {
      "image/png": "[encoded data removed]",
      "text/plain": [
       "<Figure size 640x480 with 2 Axes>"
      ]
     },
     "metadata": {},
     "output_type": "display_data"
    },
    {
     "name": "stdout",
     "output_type": "stream",
     "text": [
      "Classification Report :- \n",
      "               precision    recall  f1-score   support\n",
      "\n",
      "           0       0.91      1.00      0.95        41\n",
      "           1       1.00      0.86      0.93        29\n",
      "\n",
      "    accuracy                           0.94        70\n",
      "   macro avg       0.96      0.93      0.94        70\n",
      "weighted avg       0.95      0.94      0.94        70\n",
      "\n"
     ]
    }
   ],
   "source": [
    "knn_classifier = KNeighborsClassifier(n_neighbors=5)\n",
    "\n",
    "# Fit the classifier to the training data\n",
    "knn_classifier.fit(x_train_knn, y_train_knn)\n",
    "\n",
    "# Predict the training and test data labels\n",
    "test_predictions = knn_classifier.predict(x_test_knn)\n",
    "\n",
    "print('Accuracy score of k=5 is: ', accuracy_score(y_test_knn, test_predictions))\n",
    "\n",
    "cm = confusion_matrix(y_test_knn, test_predictions)\n",
    "disp = ConfusionMatrixDisplay(cm)\n",
    "disp.plot()\n",
    "plt.show()\n",
    "\n",
    "print(f\"Classification Report :- \\n {classification_report(y_test_knn, test_predictions)}\")"
   ]
  },
  {
   "cell_type": "markdown",
   "metadata": {},
   "source": [
    "This shows that KNN classification with k=5 has a high accuracy and precision. That said, it is important to note that the number of observations is low. Since KNN classification cannot handle nan values, and it is difficult to accurately impute categorical data, the missing categorical data rows had to be dropped. So, instead of the original 400 rows, there were 233 rows.\n",
    "\n",
    "As a result, even though the accuracy is high it is possible that the data was overfit."
   ]
  },
  {
   "cell_type": "markdown",
   "metadata": {},
   "source": [
    "#### Decision Trees Classification\n",
    "To keep things consistent, we will continue to use the dataframe with categorical values encoded as numerical values. Note that decision trees technically do not need this, and can take in string values."
   ]
  },
  {
   "cell_type": "code",
   "execution_count": 27,
   "metadata": {},
   "outputs": [
    {
     "data": {
      "image/png": "[encoded data removed]",
      "text/plain": [
       "<Figure size 640x480 with 1 Axes>"
      ]
     },
     "metadata": {},
     "output_type": "display_data"
    }
   ],
   "source": [
    "# Define the range of tree depths to explore\n",
    "depths = range(1, 15)\n",
    "\n",
    "# Initialize lists to store accuracies for different depths\n",
    "train_accuracies = []\n",
    "test_accuracies = []\n",
    "\n",
    "# Loop through each depth\n",
    "for depth in depths:\n",
    "    # Create Decision Tree classifier with current depth\n",
    "    dt_classifier = DecisionTreeClassifier(max_depth=depth, random_state=1)\n",
    "    \n",
    "    # Fit the classifier to the training data\n",
    "    dt_classifier.fit(x_train_knn, y_train_knn)\n",
    "    \n",
    "    # Predict the training and test data labels\n",
    "    train_predictions = dt_classifier.predict(x_train_knn)\n",
    "    test_predictions = dt_classifier.predict(x_test_knn)\n",
    "    \n",
    "    # Calculate accuracy for training and test data\n",
    "    train_accuracy = accuracy_score(y_train_knn, train_predictions)\n",
    "    test_accuracy = accuracy_score(y_test_knn, test_predictions)\n",
    "    \n",
    "    # Append accuracies to the lists\n",
    "    train_accuracies.append(train_accuracy)\n",
    "    test_accuracies.append(test_accuracy)\n",
    "\n",
    "# Plot the accuracies for different depths\n",
    "plt.plot(depths, train_accuracies, label='Training Accuracy')\n",
    "plt.plot(depths, test_accuracies, label='Test Accuracy')\n",
    "plt.title('Decision Tree Accuracy for Different Depths')\n",
    "plt.xlabel('Tree Depth')\n",
    "plt.ylabel('Accuracy')\n",
    "plt.xticks(depths)\n",
    "plt.legend()\n",
    "plt.grid(True)\n",
    "plt.show()"
   ]
  },
  {
   "cell_type": "markdown",
   "metadata": {},
   "source": [
    "From these results, it appears that all depths of the tree lead to a high accuracy. However like with KNN data, it is possible that this is a result of overfitting to this dataset. To account for that, we can continue with a tree depth of 5. However the optimal depth would ideally be decided with more data. \n",
    "\n",
    "Using a depth of 5, we can look at the confusion matrix."
   ]
  },
  {
   "cell_type": "code",
   "execution_count": 34,
   "metadata": {},
   "outputs": [
    {
     "name": "stdout",
     "output_type": "stream",
     "text": [
      "Accuracy score of depth=5 is:  0.9857142857142858\n"
     ]
    },
    {
     "data": {
      "image/png": "[encoded data removed]",
      "text/plain": [
       "<Figure size 640x480 with 2 Axes>"
      ]
     },
     "metadata": {},
     "output_type": "display_data"
    },
    {
     "name": "stdout",
     "output_type": "stream",
     "text": [
      "Classification Report :- \n",
      "               precision    recall  f1-score   support\n",
      "\n",
      "           0       1.00      0.98      0.99        41\n",
      "           1       0.97      1.00      0.98        29\n",
      "\n",
      "    accuracy                           0.99        70\n",
      "   macro avg       0.98      0.99      0.99        70\n",
      "weighted avg       0.99      0.99      0.99        70\n",
      "\n"
     ]
    }
   ],
   "source": [
    "dt_classifier = DecisionTreeClassifier(max_depth=5, random_state=1)\n",
    "# Fit the classifier to the training data\n",
    "dt_classifier.fit(x_train_knn, y_train_knn)\n",
    "\n",
    "# Predict the training and test data labels\n",
    "test_predictions = dt_classifier.predict(x_test_knn)\n",
    "print('Accuracy score of depth=5 is: ', accuracy_score(y_test_knn, test_predictions))\n",
    "\n",
    "cm = confusion_matrix(y_test_knn, test_predictions)\n",
    "disp = ConfusionMatrixDisplay(cm)\n",
    "disp.plot()\n",
    "plt.show()\n",
    "\n",
    "print(f\"Classification Report :- \\n {classification_report(y_test_knn, test_predictions)}\")"
   ]
  },
  {
   "cell_type": "markdown",
   "metadata": {},
   "source": [
    "This shows that a depth of 5 in a decision tree leads to high accuracy and precision. There is only 1 false positive in the whole dataset which is excellent. However, as mentioned, this model does suffer from a small sample size. "
   ]
  },
  {
   "cell_type": "markdown",
   "metadata": {},
   "source": [
    "### Question 11/12 - Feature Extraction/Classifier Comparison\n",
    "From these results, it is clear that decision trees have a higher accuracy than KNN (99 vs 95 for test data). However, it would be valuable to try and improve the data quality (less nan values) so that the data could be fit more accurately. Given the high accuracy of both models and that the limiting factor is data quality, there is no way to improve the model further. \n",
    "\n",
    "### Question 13 - Interpretable Classifier Insight\n",
    "We can look at the decision tree features to understand what leads to the largest impact on chronic kidney disease."
   ]
  },
  {
   "cell_type": "code",
   "execution_count": 33,
   "metadata": {},
   "outputs": [
    {
     "data": {
      "image/png": "[encoded data removed]",
      "text/plain": [
       "<Figure size 640x480 with 1 Axes>"
      ]
     },
     "metadata": {},
     "output_type": "display_data"
    }
   ],
   "source": [
    "# Get feature importances from the trained Decision Tree classifier\n",
    "feature_importances = dt_classifier.feature_importances_\n",
    "\n",
    "feature_names = x_train_knn.columns\n",
    "feature_importance_df = pd.DataFrame({'Feature': feature_names, 'Importance': feature_importances})\n",
    "feature_importance_df = feature_importance_df.sort_values(by='Importance', ascending=False)\n",
    "\n",
    "# Plot feature importances\n",
    "plt.barh(feature_importance_df['Feature'], feature_importance_df['Importance'], color='skyblue')\n",
    "plt.title('Feature Importance for Decision Tree (Depth=5)')\n",
    "plt.xlabel('Importance')\n",
    "plt.ylabel('Feature')\n",
    "plt.gca().invert_yaxis()\n",
    "plt.show()"
   ]
  },
  {
   "cell_type": "markdown",
   "metadata": {},
   "source": [
    "This plot shows that albumin is the most important factor by far. specific_gravity and hemoglobin are also important, and all other variables are essentially insignificant. This partially aligns with the data given in the provided article, [Sanmarchi et al., (2023)](https://link.springer.com/article/10.1007/s40620-023-01573-4) which finds albumin, creatinine, and hemoglobin to be the most important factors concerning CKD diagnosis."
   ]
  },
  {
   "cell_type": "markdown",
   "metadata": {},
   "source": [
    "### Question 15 - Team Contributions\n",
    "This project was completed individually.\n",
    "\n",
    "### Question 16 - Public Git Repo\n",
    "https://github.com/melina-a/stats3d\n",
    "\n",
    "(note that I will keep the repo private until Apr 19 so as to avoid plagirism)"
   ]
  }
 ],
 "metadata": {
  "kernelspec": {
   "display_name": "py311",
   "language": "python",
   "name": "python3"
  },
  "language_info": {
   "codemirror_mode": {
    "name": "ipython",
    "version": 3
   },
   "file_extension": ".py",
   "mimetype": "text/x-python",
   "name": "python",
   "nbconvert_exporter": "python",
   "pygments_lexer": "ipython3",
   "version": "3.11.7"
  }
 },
 "nbformat": 4,
 "nbformat_minor": 2
}
