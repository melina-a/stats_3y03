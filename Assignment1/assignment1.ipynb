{
 "cells": [
  {
   "cell_type": "raw",
   "metadata": {},
   "source": [
    "---\n",
    "title: STATS 3DA3\n",
    "subtitle: Homework Assignment 1\n",
    "author: \"Pratheepa Jeganathan\"\n",
    "date: 01/18/2024\n",
    "format: pdf\n",
    "header-includes:\n",
    "   - \\usepackage{amsmath}\n",
    "   - \\usepackage{bbm}\n",
    "   - \\usepackage{array}\n",
    "   - \\usepackage{multirow}\n",
    "   - \\usepackage{graphicx}\n",
    "   - \\usepackage{float}\n",
    "   - \\usepackage{apacite}\n",
    "   - \\usepackage{natbib}\n",
    "execute: \n",
    "  echo: true\n",
    "fontsize: 11pt\n",
    "geometry: margin = 1in\n",
    "linestretch: 1.5\n",
    "---"
   ]
  },
  {
   "cell_type": "markdown",
   "metadata": {},
   "source": [
    "## Instruction\n",
    "\n",
    "-   **Due before 10:00 PM on Monday, January 29, 2024.**\n",
    "\n",
    "-   **Submit a copy of PDF with your solution and technical supplemental material to Avenue to Learn using the link that was emailed to you.**\n",
    "\n",
    "-   **Late penalty for assignments: 15% will be deducted from assignments each day after the due date (rounding up).**\n",
    "\n",
    "-   **Assignments won't be accepted after 48 hours after the due date.**\n",
    "\n",
    "## Assignment Standards\n",
    "\n",
    "**Your assignment must conform to the Assignment Standards listed below.**\n",
    "\n",
    "- Write **your name** and **student number** on the title page. We will not grade assignments without the title page.\n",
    "- You may discuss homework problems with other students, but you have to prepare the written assignments yourself.\n",
    "- \\LaTeX is strongly recommended but not strictly required.\n",
    "- Eleven-point font (times or similar) must be used with 1.5 line spacing and margins of at least 1~inch all around.\n",
    "- Use **newpage** to write solution for each question (1, 2, 3).\n",
    "- No screenshots are accepted for any reason.\n",
    "- The writing and referencing should be appropriate to the undergradaute level.\n",
    "- Various tools, including publicly available internet tools, may be used by the instructor to check the originality of submitted work.\n",
    "-   Assignment policy on the use of generative AI:\n",
    "    -   Students are not permitted to use generative AI in this assignment. In alignment with [McMaster academic integrity policy](https://secretariat.mcmaster.ca/app/uploads/Academic-Integrity-Policy-1-1.pdf), it \"shall be an offence knowingly to ...  submit academic work for assessment that was purchased or acquired from another source\".  This includes work created by generative AI tools. Also state in the policy is the following, \"Contract Cheating is the act of\"outsourcing of student work to third parties\" (Lancaster & Clarke, 2016, p. 639) with or without payment.\" Using Generative AI tools is a form of contract cheating.  Charges of academic dishonesty will be brought forward to the Office of Academic Integrity. \n",
    "\n",
    "\\newpage"
   ]
  },
  {
   "cell_type": "markdown",
   "metadata": {},
   "source": [
    "## Question 1\n",
    "\n",
    "Open the surface weather dataset at [noaa-gsod.csv](https://gist.githubusercontent.com/krisrs1128/3845514e2d5eef57ec3271ea20fdcdb1/raw/44f9860df64b280e6b4c155f144c67bea1825edd/noaa-gosd.csv) (a subset of a much larger dataset). The larger dataset is available at [https://www.kaggle.com/noaa/gsod](https://www.kaggle.com/noaa/gsod).\n",
    "\n",
    "(a) Read the documentation on this dataset. What are `gust` and `visib` variables? Make histograms of the `gust` and `visib` variables in one plot. Choose an appropriate scale for the vertical axis and colors if you overly two histograms. What do you notice? \n",
    "\n",
    "\\color{blue}\n",
    "Hint: \n",
    "\n",
    "1. Visit the website [https://www.kaggle.com/noaa/gsod](https://www.kaggle.com/noaa/gsod). \n",
    "\n",
    "2. Read about the variables. \n",
    "\n",
    "3. Then, find out what is `gust` and `visib`.\n",
    "\n",
    "4. Now read the dataset using `pd.read_csv()`. Let's call the data frame `df`.\n",
    "\n",
    "5. Because `gust` and `visib` are continuous variables, we can use plt.hist() to make histograms in the same plot. You will need to set the y-axis as `density`.\n",
    "\n",
    "6. Write down what do you notice from these histograms.\n",
    "\n",
    "\\color{black}\n"
   ]
  },
  {
   "cell_type": "markdown",
   "metadata": {},
   "source": [
    "(b) Replace all missing values in the `gust` and `visib` variables with explicit NaN missing values. Comment on how do you identify missing values. \n",
    "\n",
    "\\color{blue}\n",
    "Hint:\n",
    "\n",
    "Missing values may be the largest in the dataset.\n",
    "\\color{black}"
   ]
  },
  {
   "cell_type": "markdown",
   "metadata": {},
   "source": [
    "(c) Make histograms of the `gust` and `visib` variables again, ignoring any missing values. Provide a clear and concise description of the plot - this description should be cast in the context of the surface weather dataset.\n",
    "\n",
    "\\color{blue}\n",
    "\n",
    "Hint:\n",
    "\n",
    "Describe the range of values. Describe the shape (bell shape or right-skewed or left-skewed). Describe the mode (peak of the histogram). Description of histograms should be written using the description of the variable found in part (a).\n",
    "\n",
    "\\color{black}"
   ]
  },
  {
   "cell_type": "markdown",
   "metadata": {},
   "source": [
    "## Question 2\n",
    "\n",
    "We will use [Spotify Tracks DB dataset from Kaggle](https://www.kaggle.com/zaheenhamidani/ultimate-spotify-tracks-db), which was curated using the Spotify Web API. The Web API provides various information about each track, using the Spotify URI and the Spotify ID as track identifiers. Download the file `SpotifyFeatures.csv` from the above site.\n",
    "\n",
    "(a) How many observations and variables are in the dataset?\n",
    "\n",
    "\\color{blue}\n",
    "\n",
    "Hint:\n",
    "\n",
    "1. Go to the link [Spotify Tracks DB dataset from Kaggle](https://www.kaggle.com/zaheenhamidani/ultimate-spotify-tracks-db). \n",
    "\n",
    "2. On this page, there is a **Download** option at the top right-hand side. Click it. \n",
    "\n",
    "3. A zip file will be downloaded. Then, unzip it. \n",
    "\n",
    "4. Move that dataset `SpotifyFeatures.csv` to where you have our assignment notebook. \n",
    "\n",
    "5. Use `pd.read_csv()` to read the data. Let's call it `spotify`.\n",
    "\n",
    "6. Use appropritate function find the dimension of the `spotify` dataset.\n",
    "\n",
    "\\color{black}"
   ]
  },
  {
   "cell_type": "markdown",
   "metadata": {},
   "source": [
    "(b) `track_id` should be unique to each observation. Verify this condition and comment on the results. Duplicates could be included in the dataset if tracks were different in genre only. If there is any duplicate, how many duplicated `track_id.` Drop the duplicate tracks from the dataset for further analysis.\n",
    "\n",
    "\\color{blue}\n",
    "\n",
    "Hint:\n",
    "\n",
    "- Use `is.unique` to check duplicated `track_id`.\n",
    "- Use `duplicated` and `sum()` to find the number of duplicated `track_id`.\n",
    "- Use `drop_duplicates()` to drop the duplicate `track_id`.\n",
    "\n",
    "\\color{black}"
   ]
  },
  {
   "cell_type": "markdown",
   "metadata": {},
   "source": [
    "(c) For each `track_id`, there is `genre`, `artist_name`, `track_name`, `popularity`, and some features of the track `acousticness`, `danceability`, `duration in milliseconds`, `energy`, `instrumentalness`, `key`, `liveliness`, `loudness`, `mode`,`speechiness`, `tempo`, `time_signature` and `valence`. Comment on the type of the above variables. \n",
    "\n",
    "\\color{blue}\n",
    "Hint:\n",
    "\n",
    "Use `.dtypes()` to find the data types. Then, comment on the data types for the above variables.\n",
    "\n",
    "\\color{black}"
   ]
  },
  {
   "cell_type": "markdown",
   "metadata": {},
   "source": [
    "(d) How many different `genres` are in the data? \n",
    "\n",
    "\\color{blue}\n",
    "Hint:\n",
    "\n",
    "Use `.nunique()` to find it. \n",
    "\n",
    "\\color{black}"
   ]
  },
  {
   "cell_type": "markdown",
   "metadata": {},
   "source": [
    "(e) Compute the average popularity of each genre and report the five most popular genres. Choose all the tracks related to the five most popular genres. Then, use this subset of tracks for the questions (f) - (h). "
   ]
  },
  {
   "cell_type": "markdown",
   "metadata": {},
   "source": [
    "(f) Explore the distribution of `genre` using the appropriate visualization method and interpret the plot.\n",
    "\n",
    "\\color{blue}\n",
    "Hint:\n",
    "\n",
    "1. What is the data type of `genre`?\n",
    "\n",
    "2. Choose the appropriate visualization method.\n",
    "\n",
    "3. Interpret the plot. For example, which genre mostly appears in the dataset?\n",
    "\n",
    "\\color{black}"
   ]
  },
  {
   "cell_type": "markdown",
   "metadata": {},
   "source": [
    "(g) Explore the association between `genre` and `popularity` using the appropriate visualization method and interpret the plot. The plot must account for the different number of tracks in each `genre.`\n",
    "\n",
    "\\color{blue}\n",
    "Hint:\n",
    "\n",
    "-   Use the width of the boxplot proportional to relative frequency of each genre.\n",
    "    - compute the number of tracks in each genre using `.value_count()`.\n",
    "    - relative frequency = counts/len(dataframe)\n",
    "    - notes from class: will need to set common_norm=False\n",
    "\n",
    "\\color{black}"
   ]
  },
  {
   "cell_type": "markdown",
   "metadata": {},
   "source": [
    "(h) Explore the relationship between `acousticness` and `popularity.` Use an appropriate visualization method to avoid overplotting for this large dataset. Interpret the association between `acousticness` and `popularity.`\n",
    "\n",
    "- i think a scatterplot to deal with large amounts of data\n",
    "- When dealing with 2 continuous variables (example in L6 notes)\n",
    "    - 2D histogram, plt.hist2d() with appropriate number of bins \n"
   ]
  },
  {
   "cell_type": "markdown",
   "metadata": {},
   "source": [
    "## 3. Helper's name.\n",
    "\n",
    "After attempting homework problems individually, students may discuss a homework assignment with their classmates. However, students must write up their solutions individually and explicitly indicate who (if anyone) or resources students received help. Write your helper's name (only one helper's name is accepted). "
   ]
  },
  {
   "cell_type": "markdown",
   "metadata": {},
   "source": [
    "\\newpage"
   ]
  },
  {
   "cell_type": "markdown",
   "metadata": {},
   "source": [
    "## Grading scheme \n",
    "\n",
    "\\begin{table}[H]\n",
    "\\begin{tabular}{p{0.15\\textwidth} p{0.15\\textwidth} p{0.65\\textwidth}}\n",
    "1. & a. & [4]\\\\\n",
    "   & b. & [1]\\\\\n",
    "   & c. & [2]\\\\\n",
    "2. & a. & [1]\\\\\n",
    "   & b. & [1]\\\\\n",
    "   & c. & [1]\\\\\n",
    "   & d. & [1]\\\\\n",
    "   & e. & [1]\\\\\n",
    "   & f. & [2]\\\\\n",
    "   & g. & [3]\\\\\n",
    "   & h. & [3]\\\\\n",
    "References & & Reference list starts in a new page, references are appropriate [2] \\\\\n",
    "Workflow & & Python codes and the outputs for the questions are presented, Figures and any text in the figures should be readable [2]\n",
    "\\end{tabular}\n",
    "\\end{table}\n",
    "**The maximum point for this assignment is 24. We will convert this to 100%.**\n"
   ]
  }
 ],
 "metadata": {
  "kernelspec": {
   "display_name": ".venv",
   "language": "python",
   "name": "python3"
  },
  "language_info": {
   "codemirror_mode": {
    "name": "ipython",
    "version": 3
   },
   "file_extension": ".py",
   "mimetype": "text/x-python",
   "name": "python",
   "nbconvert_exporter": "python",
   "pygments_lexer": "ipython3",
   "version": "3.12.0"
  }
 },
 "nbformat": 4,
 "nbformat_minor": 2
}
